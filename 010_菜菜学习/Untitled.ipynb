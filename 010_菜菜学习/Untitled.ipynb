{
 "cells": [
  {
   "cell_type": "code",
   "execution_count": 8,
   "id": "8b0125b2-1a22-4582-b372-aa34d4e115b7",
   "metadata": {},
   "outputs": [],
   "source": [
    "import torchaudio\n",
    "import os\n",
    "import torch\n",
    "import torch.nn as nn\n",
    "import torch.nn.functional as F\n",
    "\n",
    "# 数据准备\n",
    "# 假设您已经有一个语音数据集，每个文件标记了一个类别标签。我们可以使用 ​torchaudio​来加载和处理音频数据。\n",
    "def load_audio_files(data_path):\n",
    "    audio_files = []\n",
    "    labels = []\n",
    "\n",
    "    for root, _, files in os.walk(data_path):\n",
    "        for file in files:\n",
    "            if file.endswith(\".wav\"):  # Assumption: files are in .wav format\n",
    "                full_path = os.path.join(root, file)\n",
    "                label = os.path.basename(root)  # Assuming folder name is the label\n",
    "                waveform, sample_rate = torchaudio.load(full_path)\n",
    "                audio_files.append(waveform)\n",
    "                labels.append(label)\n",
    "\n",
    "    return audio_files, labels"
   ]
  },
  {
   "cell_type": "code",
   "execution_count": 11,
   "id": "43c70af6-c7df-4e74-a375-125d5084eba4",
   "metadata": {},
   "outputs": [],
   "source": [
    "# 特征提取\n",
    "# 常见的特征提取方法包括梅尔频率倒谱系数（MFCC）、梅尔谱图（Mel Spectrogram）等。\n",
    "def extract_features(audio_files, sample_rate):\n",
    "    mfcc_transform = torchaudio.transforms.MFCC(\n",
    "        sample_rate=sample_rate,\n",
    "        n_mfcc=13,\n",
    "        melkwargs={\"n_fft\": 400, \"hop_length\": int(0.010 * sample_rate), \"n_mels\": 23}\n",
    "    )\n",
    "\n",
    "    features = []\n",
    "    for waveform in audio_files:\n",
    "        mfcc = mfcc_transform(waveform)\n",
    "        features.append(mfcc)\n",
    "\n",
    "    return features"
   ]
  },
  {
   "cell_type": "code",
   "execution_count": 12,
   "id": "edc58388-b063-4fe0-9d8f-8f2a160a4a85",
   "metadata": {},
   "outputs": [
    {
     "ename": "NameError",
     "evalue": "name 'num_epochs' is not defined",
     "output_type": "error",
     "traceback": [
      "\u001b[1;31m---------------------------------------------------------------------------\u001b[0m",
      "\u001b[1;31mNameError\u001b[0m                                 Traceback (most recent call last)",
      "Cell \u001b[1;32mIn[12], line 8\u001b[0m\n\u001b[0;32m      5\u001b[0m criterion \u001b[38;5;241m=\u001b[39m nn\u001b[38;5;241m.\u001b[39mCrossEntropyLoss()\n\u001b[0;32m      6\u001b[0m optimizer \u001b[38;5;241m=\u001b[39m optim\u001b[38;5;241m.\u001b[39mAdam(model\u001b[38;5;241m.\u001b[39mparameters(), lr\u001b[38;5;241m=\u001b[39m\u001b[38;5;241m0.001\u001b[39m)\n\u001b[1;32m----> 8\u001b[0m \u001b[38;5;28;01mfor\u001b[39;00m epoch \u001b[38;5;129;01min\u001b[39;00m \u001b[38;5;28mrange\u001b[39m(\u001b[43mnum_epochs\u001b[49m):\n\u001b[0;32m      9\u001b[0m     \u001b[38;5;28;01mfor\u001b[39;00m inputs, labels \u001b[38;5;129;01min\u001b[39;00m train_loader:\n\u001b[0;32m     10\u001b[0m         inputs \u001b[38;5;241m=\u001b[39m inputs\u001b[38;5;241m.\u001b[39mto(device)\n",
      "\u001b[1;31mNameError\u001b[0m: name 'num_epochs' is not defined"
     ]
    }
   ],
   "source": [
    "class SpeechClassifier(nn.Module):\n",
    "    def __init__(self, input_size, num_classes):\n",
    "        super(SpeechClassifier, self).__init__()\n",
    "        self.fc1 = nn.Linear(input_size, 256)\n",
    "        self.fc2 = nn.Linear(256, 128)\n",
    "        self.fc3 = nn.Linear(128, num_classes)\n",
    "\n",
    "    def forward(self, x):\n",
    "        x = F.relu(self.fc1(x))\n",
    "        x = F.relu(self.fc2(x))\n",
    "        x = self.fc3(x)\n",
    "        return x"
   ]
  },
  {
   "cell_type": "code",
   "execution_count": 4,
   "id": "8ac0f6a8-e43a-4f39-ae7a-0a0a8a9895b7",
   "metadata": {},
   "outputs": [],
   "source": [
    "def train_model(model, train_loader, criterion, optimizer, num_epochs):\n",
    "    for epoch in range(num_epochs):\n",
    "        model.train()\n",
    "        running_loss = 0.0\n",
    "        for inputs, labels in train_loader:\n",
    "            optimizer.zero_grad()\n",
    "            outputs = model(inputs)\n",
    "            loss = criterion(outputs, labels)\n",
    "            loss.backward()\n",
    "            optimizer.step()\n",
    "            running_loss += loss.item()\n",
    "\n",
    "        print(f\"Epoch {epoch+1}, Loss: {running_loss/len(train_loader)}\")\n"
   ]
  },
  {
   "cell_type": "code",
   "execution_count": 7,
   "id": "0706f563-4bff-4918-b672-54d87081750e",
   "metadata": {},
   "outputs": [
    {
     "name": "stdout",
     "output_type": "stream",
     "text": [
      "Epoch 1, Loss: 0.6476296305656433\n",
      "Epoch 2, Loss: 0.49950666427612306\n",
      "Epoch 3, Loss: 0.4115217447280884\n",
      "Epoch 4, Loss: 0.341979393362999\n",
      "Epoch 5, Loss: 0.27994734048843384\n",
      "Epoch 6, Loss: 0.2284907042980194\n",
      "Epoch 7, Loss: 0.18540208116173745\n",
      "Epoch 8, Loss: 0.1497023344039917\n",
      "Epoch 9, Loss: 0.11916546523571014\n",
      "Epoch 10, Loss: 0.09449867848306895\n",
      "Epoch 11, Loss: 0.07461356818675995\n",
      "Epoch 12, Loss: 0.058421484939754006\n",
      "Epoch 13, Loss: 0.045755724795162676\n",
      "Epoch 14, Loss: 0.03590860068798065\n",
      "Epoch 15, Loss: 0.028399443626403807\n",
      "Epoch 16, Loss: 0.022725792694836856\n",
      "Epoch 17, Loss: 0.018385041039437056\n",
      "Epoch 18, Loss: 0.015086334571242333\n",
      "Epoch 19, Loss: 0.012587815104052425\n",
      "Epoch 20, Loss: 0.010627786535769701\n"
     ]
    }
   ],
   "source": [
    "# Dummy data for demonstration purposes\n",
    "inputs = torch.randn(10, 13)  # Example input features\n",
    "labels = torch.randint(0, 2, (10,))  # Example target labels (2 classes)\n",
    "train_data = list(zip(inputs, labels))\n",
    "train_loader = torch.utils.data.DataLoader(train_data, batch_size=2)\n",
    "\n",
    "model = SpeechClassifier(input_size=13, num_classes=2)\n",
    "criterion = nn.CrossEntropyLoss()\n",
    "optimizer = torch.optim.Adam(model.parameters(), lr=0.001)\n",
    "\n",
    "train_model(model, train_loader, criterion, optimizer, num_epochs=20)"
   ]
  },
  {
   "cell_type": "code",
   "execution_count": null,
   "id": "15468bd1-b403-41a7-9db5-c7c03c8c99b5",
   "metadata": {},
   "outputs": [],
   "source": []
  }
 ],
 "metadata": {
  "kernelspec": {
   "display_name": "Python 3 (ipykernel)",
   "language": "python",
   "name": "python3"
  },
  "language_info": {
   "codemirror_mode": {
    "name": "ipython",
    "version": 3
   },
   "file_extension": ".py",
   "mimetype": "text/x-python",
   "name": "python",
   "nbconvert_exporter": "python",
   "pygments_lexer": "ipython3",
   "version": "3.9.8"
  }
 },
 "nbformat": 4,
 "nbformat_minor": 5
}
