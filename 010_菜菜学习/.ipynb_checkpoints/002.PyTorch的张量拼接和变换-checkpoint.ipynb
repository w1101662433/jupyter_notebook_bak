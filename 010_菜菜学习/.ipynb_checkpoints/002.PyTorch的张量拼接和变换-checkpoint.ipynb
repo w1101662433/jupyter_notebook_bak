{
 "cells": [
  {
   "cell_type": "code",
   "execution_count": 1,
   "id": "5b7d035c-1f71-4cf0-b9a4-35c371b5a085",
   "metadata": {},
   "outputs": [],
   "source": [
    "import torch"
   ]
  },
  {
   "cell_type": "code",
   "execution_count": 3,
   "id": "418d5a82-5104-46a8-8ac4-4ed0b663bc19",
   "metadata": {},
   "outputs": [
    {
     "data": {
      "text/plain": [
       "tensor([2, 3, 4, 5, 6, 7, 8])"
      ]
     },
     "execution_count": 3,
     "metadata": {},
     "output_type": "execute_result"
    }
   ],
   "source": [
    "t = torch.arange(1,10)\n",
    "t[0] # 第一个元素\n",
    "t[1:8] # 第1-8个元素"
   ]
  },
  {
   "cell_type": "code",
   "execution_count": 4,
   "id": "031e9302-c5fd-4499-b0ea-84377dcd247b",
   "metadata": {},
   "outputs": [
    {
     "data": {
      "text/plain": [
       "tensor([2, 4, 6, 8])"
      ]
     },
     "execution_count": 4,
     "metadata": {},
     "output_type": "execute_result"
    }
   ],
   "source": [
    "t[1::2] # 从第1后，每隔一个元素"
   ]
  },
  {
   "cell_type": "code",
   "execution_count": 6,
   "id": "d9665f33-4c80-4511-9410-367a5988aaef",
   "metadata": {},
   "outputs": [],
   "source": [
    "t = torch.arange(1,10).reshape(3,3)"
   ]
  },
  {
   "cell_type": "code",
   "execution_count": 7,
   "id": "0cd8c0cb-17e0-4567-b5c0-588ee85b1070",
   "metadata": {},
   "outputs": [
    {
     "data": {
      "text/plain": [
       "tensor(2)"
      ]
     },
     "execution_count": 7,
     "metadata": {},
     "output_type": "execute_result"
    }
   ],
   "source": [
    "t[0,1]"
   ]
  },
  {
   "cell_type": "code",
   "execution_count": 14,
   "id": "55590161-8980-46b3-b446-38c623e426a1",
   "metadata": {},
   "outputs": [
    {
     "data": {
      "text/plain": [
       "tensor([[4, 5, 6],\n",
       "        [7, 8, 9]])"
      ]
     },
     "execution_count": 14,
     "metadata": {},
     "output_type": "execute_result"
    }
   ],
   "source": [
    "t = torch.arange(1,10).reshape(3,3)\n",
    "t[0,1] # 第1行，第2列\n",
    "t[:,[0,2]] # 全部行，第1,3列\n",
    "\n",
    "torch.index_select(t,0,torch.tensor([1,2]))"
   ]
  },
  {
   "cell_type": "code",
   "execution_count": 12,
   "id": "ef6699b7-0cfd-49e2-8f99-f40c4840f9cf",
   "metadata": {},
   "outputs": [
    {
     "data": {
      "text/plain": [
       "tensor([[1, 2],\n",
       "        [3, 4],\n",
       "        [5, 6]])"
      ]
     },
     "execution_count": 12,
     "metadata": {},
     "output_type": "execute_result"
    }
   ],
   "source": [
    "t = torch.arange(1,7).reshape(2,3)\n",
    "t.view(3,2)"
   ]
  },
  {
   "cell_type": "code",
   "execution_count": 15,
   "id": "b5e489b8-29ae-4070-a1eb-590e916109d3",
   "metadata": {},
   "outputs": [
    {
     "data": {
      "text/plain": [
       "(tensor([[0, 1, 2]]),\n",
       " tensor([[3, 4, 5]]),\n",
       " tensor([[6, 7, 8]]),\n",
       " tensor([[ 9, 10, 11]]))"
      ]
     },
     "execution_count": 15,
     "metadata": {},
     "output_type": "execute_result"
    }
   ],
   "source": [
    "t = torch.arange(0,12).reshape(4,3)\n",
    "torch.chunk(t,4,dim=0) # 选第0维度，切分成4块"
   ]
  },
  {
   "cell_type": "code",
   "execution_count": 17,
   "id": "c48bd703-7dc8-4eb6-888e-68288fd1ab1b",
   "metadata": {},
   "outputs": [
    {
     "data": {
      "text/plain": [
       "(tensor([[0, 1, 2]]),\n",
       " tensor([[ 3,  4,  5],\n",
       "         [ 6,  7,  8],\n",
       "         [ 9, 10, 11]]))"
      ]
     },
     "execution_count": 17,
     "metadata": {},
     "output_type": "execute_result"
    }
   ],
   "source": [
    "torch.split(t,4,dim=0) # 这样和chunk相同，选第0维度，切分成4块"
   ]
  },
  {
   "cell_type": "code",
   "execution_count": 18,
   "id": "eddb03c9-8677-4c6b-8a40-6624a7c95be3",
   "metadata": {},
   "outputs": [
    {
     "data": {
      "text/plain": [
       "(tensor([[0, 1, 2],\n",
       "         [3, 4, 5]]),\n",
       " tensor([[ 6,  7,  8],\n",
       "         [ 9, 10, 11]]))"
      ]
     },
     "execution_count": 18,
     "metadata": {},
     "output_type": "execute_result"
    }
   ],
   "source": [
    "torch.split(t,2,dim=0)\n"
   ]
  },
  {
   "cell_type": "code",
   "execution_count": 19,
   "id": "40a3ed75-d519-4777-ab9d-29b819bdccbc",
   "metadata": {},
   "outputs": [
    {
     "data": {
      "text/plain": [
       "(tensor([[0, 1, 2]]),\n",
       " tensor([[3, 4, 5]]),\n",
       " tensor([[6, 7, 8]]),\n",
       " tensor([[ 9, 10, 11]]))"
      ]
     },
     "execution_count": 19,
     "metadata": {},
     "output_type": "execute_result"
    }
   ],
   "source": [
    "torch.split(t,1,dim=0)"
   ]
  },
  {
   "cell_type": "code",
   "execution_count": 20,
   "id": "644ddd5b-f9ac-46b5-a13d-99f95f906ec1",
   "metadata": {},
   "outputs": [
    {
     "data": {
      "text/plain": [
       "tensor([[1., 1., 1.],\n",
       "        [1., 1., 1.],\n",
       "        [0., 0., 0.],\n",
       "        [0., 0., 0.]])"
      ]
     },
     "execution_count": 20,
     "metadata": {},
     "output_type": "execute_result"
    }
   ],
   "source": [
    "a = torch.ones([2,3])\n",
    "b = torch.zeros([2,3])\n",
    "torch.cat([a,b])"
   ]
  },
  {
   "cell_type": "code",
   "execution_count": 21,
   "id": "78d4af05-4fd0-4509-9c90-9a24ffff47b6",
   "metadata": {},
   "outputs": [
    {
     "data": {
      "text/plain": [
       "tensor([[1., 1., 1., 0., 0., 0.],\n",
       "        [1., 1., 1., 0., 0., 0.]])"
      ]
     },
     "execution_count": 21,
     "metadata": {},
     "output_type": "execute_result"
    }
   ],
   "source": [
    "torch.cat([a,b],1) # 第1维拼接, (列拼接)"
   ]
  },
  {
   "cell_type": "code",
   "execution_count": 22,
   "id": "fa8cdd1f-4fe0-45c2-9f87-2eb83612d588",
   "metadata": {},
   "outputs": [
    {
     "data": {
      "text/plain": [
       "tensor([[[1., 1., 1.],\n",
       "         [1., 1., 1.]],\n",
       "\n",
       "        [[0., 0., 0.],\n",
       "         [0., 0., 0.]]])"
      ]
     },
     "execution_count": 22,
     "metadata": {},
     "output_type": "execute_result"
    }
   ],
   "source": [
    "\t\t\n",
    "torch.stack([a,b]) # 堆叠"
   ]
  },
  {
   "cell_type": "code",
   "execution_count": 24,
   "id": "2e6b83c3-4e8f-4865-972d-73324e709960",
   "metadata": {},
   "outputs": [],
   "source": [
    "t = torch.arange(1,7).reshape(2,3)\n",
    "t.view(3,2)\n",
    "\n",
    "t = t.reshape(1,1,1,2,3)"
   ]
  },
  {
   "cell_type": "code",
   "execution_count": 25,
   "id": "c9a07953-5e41-481c-9a44-accbaeaad50a",
   "metadata": {},
   "outputs": [
    {
     "data": {
      "text/plain": [
       "tensor([[[[[1, 2, 3],\n",
       "           [4, 5, 6]]]]])"
      ]
     },
     "execution_count": 25,
     "metadata": {},
     "output_type": "execute_result"
    }
   ],
   "source": [
    "t"
   ]
  },
  {
   "cell_type": "code",
   "execution_count": 26,
   "id": "8c55825d-6fdc-4f83-9c50-ea950dee0fc0",
   "metadata": {},
   "outputs": [
    {
     "data": {
      "text/plain": [
       "tensor([[1, 2, 3],\n",
       "        [4, 5, 6]])"
      ]
     },
     "execution_count": 26,
     "metadata": {},
     "output_type": "execute_result"
    }
   ],
   "source": [
    "t.squeeze()"
   ]
  },
  {
   "cell_type": "code",
   "execution_count": 27,
   "id": "ed52623d-072d-4e46-91d0-066538cad505",
   "metadata": {},
   "outputs": [
    {
     "data": {
      "text/plain": [
       "tensor([[1, 2, 3],\n",
       "        [4, 5, 6]])"
      ]
     },
     "execution_count": 27,
     "metadata": {},
     "output_type": "execute_result"
    }
   ],
   "source": [
    "t = torch.arange(1,7).reshape(2,3)\n",
    "t.view(3,2)\n",
    "\n",
    "t = t.reshape(1,1,1,2,3)\n",
    "t.squeeze() # 删除不必要的维度"
   ]
  },
  {
   "cell_type": "code",
   "execution_count": 28,
   "id": "ad61dc31-3673-4db7-95f8-16124517c42b",
   "metadata": {},
   "outputs": [
    {
     "data": {
      "text/plain": [
       "tensor([[1, 2, 3],\n",
       "        [4, 5, 6]])"
      ]
     },
     "execution_count": 28,
     "metadata": {},
     "output_type": "execute_result"
    }
   ],
   "source": [
    "torch.squeeze(t)"
   ]
  },
  {
   "cell_type": "code",
   "execution_count": 32,
   "id": "88436061-c43b-4c86-aa80-0cd1561df8c8",
   "metadata": {},
   "outputs": [
    {
     "data": {
      "text/plain": [
       "tensor([[[1, 2, 3],\n",
       "         [4, 5, 6]]])"
      ]
     },
     "execution_count": 32,
     "metadata": {},
     "output_type": "execute_result"
    }
   ],
   "source": [
    "t = torch.arange(1,7).reshape(2,3)\n",
    "t.unsqueeze(dim=0) # 第1维提升一个维度"
   ]
  },
  {
   "cell_type": "code",
   "execution_count": 34,
   "id": "4035021d-013a-4ead-be82-348c0dde2cf9",
   "metadata": {},
   "outputs": [
    {
     "name": "stdout",
     "output_type": "stream",
     "text": [
      "tensor([[0, 1, 2]])\n",
      "tensor([[3, 4, 5]])\n",
      "tensor([[6, 7, 8]])\n",
      "tensor([[ 9, 10, 11]])\n",
      "tensor([[0, 1, 2]])\n",
      "tensor([[ 3,  4,  5],\n",
      "        [ 6,  7,  8],\n",
      "        [ 9, 10, 11]])\n"
     ]
    }
   ],
   "source": [
    "t = torch.arange(0,12).reshape(4,3)\n",
    "\n",
    "# 第0维度切分成4块\n",
    "chunks = torch.chunk(t, 4, dim=0)\n",
    "for chunk in chunks:\n",
    "    print(chunk)\n",
    "\n",
    "# 按给定的大小切分\n",
    "splits = torch.split(t,[1,3],dim=0)\n",
    "for split in splits:\n",
    "    print(split)\n"
   ]
  },
  {
   "cell_type": "code",
   "execution_count": null,
   "id": "f8b91039-d982-45f6-9a66-f1e061ad36c6",
   "metadata": {},
   "outputs": [],
   "source": []
  }
 ],
 "metadata": {
  "kernelspec": {
   "display_name": "Python 3 (ipykernel)",
   "language": "python",
   "name": "python3"
  },
  "language_info": {
   "codemirror_mode": {
    "name": "ipython",
    "version": 3
   },
   "file_extension": ".py",
   "mimetype": "text/x-python",
   "name": "python",
   "nbconvert_exporter": "python",
   "pygments_lexer": "ipython3",
   "version": "3.9.8"
  }
 },
 "nbformat": 4,
 "nbformat_minor": 5
}
