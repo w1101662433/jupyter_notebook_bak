{
 "cells": [
  {
   "cell_type": "code",
   "execution_count": 1,
   "id": "f8d0cac5-fbb5-460c-9efc-40c25a11dad8",
   "metadata": {},
   "outputs": [],
   "source": [
    "import torch\n",
    "from torch.nn import Linear\n",
    "from torch.nn import functional as F\n",
    "import torchvision\n",
    "from torchvision.datasets import FashionMNIST\n",
    "from torchvision.transforms import transforms\n",
    "from matplotlib import pyplot as plt\n",
    "from torch.utils.data import DataLoader\n",
    "from torch.optim import SGD"
   ]
  },
  {
   "cell_type": "code",
   "execution_count": 50,
   "id": "8253af95-e0c4-4c37-97f9-6dd05a474067",
   "metadata": {},
   "outputs": [
    {
     "data": {
      "text/plain": [
       "<matplotlib.image.AxesImage at 0x3cf023d0>"
      ]
     },
     "execution_count": 50,
     "metadata": {},
     "output_type": "execute_result"
    },
    {
     "data": {
      "image/png": "[encoded data removed]",
      "text/plain": [
       "<Figure size 640x480 with 1 Axes>"
      ]
     },
     "metadata": {},
     "output_type": "display_data"
    }
   ],
   "source": [
    "dataset = FashionMNIST(root=\"./dataset/\", train=True, download=False, transform=transforms.ToTensor()) #第一次download要设成True\n",
    "batch_data = DataLoader(dataset=dataset, batch_size=128, shuffle=True, drop_last=True)\n",
    "plt.imshow(dataset[313][0].view(28,28).numpy())"
   ]
  },
  {
   "cell_type": "code",
   "execution_count": 42,
   "id": "51704efc-00e4-49c7-aea2-b5668126d540",
   "metadata": {},
   "outputs": [],
   "source": [
    "class Model(torch.nn.Module):\n",
    "    def __init__(self,in_features,out_features):\n",
    "        super().__init__()\n",
    "        self.linear1 = torch.nn.Linear(in_features, 128, bias=False)\n",
    "        self.output = torch.nn.Linear(128, out_features, bias=False)\n",
    "    \n",
    "    def forward(self,X):\n",
    "        sigma1 = self.linear1(X)\n",
    "        z1 = torch.relu(sigma1)\n",
    "        sigma2 = self.output(z1)\n",
    "        output = F.log_softmax(sigma2,dim=1)\n",
    "        return output"
   ]
  },
  {
   "cell_type": "code",
   "execution_count": 1,
   "id": "84d0b1b0-e2c2-4b63-8881-1440fb2bc2ae",
   "metadata": {},
   "outputs": [],
   "source": [
    "def r2_loss(output, target):\n",
    "    target_mean = torch.mean(target)\n",
    "    ss_tot = torch.sum((target - target_mean) ** 2)\n",
    "    ss_res = torch.sum((target - output) ** 2)\n",
    "    r2 = 1 - ss_res / ss_tot\n",
    "    return (1 - r2)  # Converting R^2 Score into a loss"
   ]
  },
  {
   "cell_type": "code",
   "execution_count": 2,
   "id": "060bfec9-1a7e-4dde-87d6-cc405713699e",
   "metadata": {},
   "outputs": [
    {
     "ename": "NameError",
     "evalue": "name 'torch' is not defined",
     "output_type": "error",
     "traceback": [
      "\u001b[1;31m---------------------------------------------------------------------------\u001b[0m",
      "\u001b[1;31mNameError\u001b[0m                                 Traceback (most recent call last)",
      "Cell \u001b[1;32mIn[2], line 1\u001b[0m\n\u001b[1;32m----> 1\u001b[0m \u001b[43mtorch\u001b[49m\u001b[38;5;241m.\u001b[39mrandom\u001b[38;5;241m.\u001b[39mmanual_seed(\u001b[38;5;241m420\u001b[39m)\n\u001b[0;32m      2\u001b[0m net \u001b[38;5;241m=\u001b[39m Model(in_features\u001b[38;5;241m=\u001b[39m\u001b[38;5;241m784\u001b[39m, out_features\u001b[38;5;241m=\u001b[39m\u001b[38;5;241m10\u001b[39m)\n\u001b[0;32m      3\u001b[0m criterion \u001b[38;5;241m=\u001b[39m r2_loss\n",
      "\u001b[1;31mNameError\u001b[0m: name 'torch' is not defined"
     ]
    }
   ],
   "source": [
    "torch.random.manual_seed(420)\n",
    "net = Model(in_features=784, out_features=10)\n",
    "criterion = r2_loss\n",
    "opt = SGD(net.parameters(), lr=0.01, momentum=0.8)\n",
    "\n",
    "for _ in range(9):\n",
    "    for batch in batch_data:\n",
    "        X = batch[0].view(128,-1)\n",
    "        y = batch[1]\n",
    "        sigma = net.forward(X)\n",
    "        loss = criterion(sigma, y)\n",
    "        y_hat = torch.max(sigma, dim=1)[1]\n",
    "        correct_count = torch.sum(y_hat==y)\n",
    "        accuracy = correct_count.data/len(y)*100\n",
    "        loss.backward()\n",
    "        opt.step()\n",
    "        net.zero_grad()\n",
    "    print('loss:', loss.item())\n",
    "    print('accuracy:', accuracy)\n",
    "   "
   ]
  },
  {
   "cell_type": "code",
   "execution_count": 8,
   "id": "1d0bae21-358b-4e77-a4ef-791bf2dde28b",
   "metadata": {},
   "outputs": [
    {
     "name": "stdout",
     "output_type": "stream",
     "text": [
      "0.007570505142211914\n"
     ]
    }
   ],
   "source": [
    "import torch\n",
    "\n",
    "def r2_loss(output, target):\n",
    "    target_mean = torch.mean(target)\n",
    "    ss_tot = torch.sum((target - target_mean) ** 2)\n",
    "    ss_res = torch.sum((target - output) ** 2)\n",
    "    r2 = 1 - ss_res / ss_tot\n",
    "    return (1 - r2)  # Converting R^2 Score into a loss\n",
    "\n",
    "# 假设output是模型的预测输出，target是真实标签\n",
    "output = torch.tensor([10.0, 20.0, 30.0]*100)\n",
    "target = torch.tensor([10.5, 19.5, 29.5]*100)\n",
    "\n",
    "# 计算损失值\n",
    "loss = r2_loss(output, target)\n",
    "\n",
    "\n",
    "\n",
    "# 输出损失值\n",
    "print(loss.item())  # 输出将是1减去计算得到的R^2 Score值"
   ]
  },
  {
   "cell_type": "code",
   "execution_count": null,
   "id": "d5ee88e7-f924-4825-965c-4868445507d8",
   "metadata": {},
   "outputs": [],
   "source": []
  }
 ],
 "metadata": {
  "kernelspec": {
   "display_name": "Python 3 (ipykernel)",
   "language": "python",
   "name": "python3"
  },
  "language_info": {
   "codemirror_mode": {
    "name": "ipython",
    "version": 3
   },
   "file_extension": ".py",
   "mimetype": "text/x-python",
   "name": "python",
   "nbconvert_exporter": "python",
   "pygments_lexer": "ipython3",
   "version": "3.9.8"
  }
 },
 "nbformat": 4,
 "nbformat_minor": 5
}
