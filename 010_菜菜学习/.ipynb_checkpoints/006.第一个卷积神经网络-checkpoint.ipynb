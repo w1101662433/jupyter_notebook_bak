{
 "cells": [
  {
   "cell_type": "code",
   "execution_count": 36,
   "id": "f8d0cac5-fbb5-460c-9efc-40c25a11dad8",
   "metadata": {},
   "outputs": [],
   "source": [
    "import time\n",
    "import torch\n",
    "from torch.nn import Linear\n",
    "from torch.nn import functional as F\n",
    "import torchvision\n",
    "from torchvision.datasets import FashionMNIST\n",
    "from torchvision.transforms import transforms\n",
    "from matplotlib import pyplot as plt\n",
    "from torch.utils.data import DataLoader\n",
    "from torch.optim import SGD, Adam\n",
    "torch.backends.cudnn.benchmark = True"
   ]
  },
  {
   "cell_type": "code",
   "execution_count": 31,
   "id": "8253af95-e0c4-4c37-97f9-6dd05a474067",
   "metadata": {},
   "outputs": [
    {
     "data": {
      "text/plain": [
       "<matplotlib.image.AxesImage at 0x7167fc70>"
      ]
     },
     "execution_count": 31,
     "metadata": {},
     "output_type": "execute_result"
    },
    {
     "data": {
      "image/png": "[encoded data removed]",
      "text/plain": [
       "<Figure size 640x480 with 1 Axes>"
      ]
     },
     "metadata": {},
     "output_type": "display_data"
    }
   ],
   "source": [
    "device = torch.device(\"cuda\" if torch.cuda.is_available() else \"cpu\")\n",
    "dataset = FashionMNIST(root=\"./dataset/\", train=True, download=False, transform=transforms.ToTensor()) #第一次download要设成True\n",
    "batch_data = DataLoader(dataset=dataset, batch_size=500, shuffle=True, drop_last=True)\n",
    "plt.imshow(dataset[313][0].view(28,28).numpy())"
   ]
  },
  {
   "cell_type": "code",
   "execution_count": 38,
   "id": "51704efc-00e4-49c7-aea2-b5668126d540",
   "metadata": {},
   "outputs": [],
   "source": [
    "class Model(torch.nn.Module):\n",
    "    def __init__(self,in_features,out_features):\n",
    "        super().__init__()\n",
    "        self.conv1 = torch.nn.Conv2d(in_channels=1, out_channels=6, kernel_size=3) # 26\n",
    "        self.pool1 = torch.nn.MaxPool2d(2) # 13\n",
    "        self.conv2 = torch.nn.Conv2d(in_channels=6, out_channels=16, kernel_size=3) # 11\n",
    "        self.pool2 = torch.nn.MaxPool2d(2) # 5\n",
    "        self.linear1 = torch.nn.Linear(16*5*5, 120)\n",
    "        self.output = torch.nn.Linear(120, out_features, bias=False)\n",
    "        self.bn = torch.nn.BatchNorm2d(1)\n",
    "    \n",
    "    def forward(self,x):\n",
    "        x = self.bn(x)\n",
    "        x = F.relu(self.conv1(x))\n",
    "        x = self.pool1(x)\n",
    "        x = F.relu(self.conv2(x))\n",
    "        x = self.pool2(x)\n",
    "        x = torch.relu(x.view(500, -1))\n",
    "        x = torch.relu(self.linear1(x))\n",
    "        #print(x.shape)\n",
    "        x = self.output(x)\n",
    "        x = F.log_softmax(x,dim=1)\n",
    "        return x"
   ]
  },
  {
   "cell_type": "code",
   "execution_count": 41,
   "id": "060bfec9-1a7e-4dde-87d6-cc405713699e",
   "metadata": {},
   "outputs": [],
   "source": [
    "torch.random.manual_seed(420)\n",
    "net = Model(in_features=1, out_features=10)\n",
    "net.to(device)\n",
    "criterion = torch.nn.NLLLoss()\n",
    "opt = Adam(net.parameters(), lr=0.02)"
   ]
  },
  {
   "cell_type": "code",
   "execution_count": null,
   "id": "1d0bae21-358b-4e77-a4ef-791bf2dde28b",
   "metadata": {},
   "outputs": [
    {
     "name": "stdout",
     "output_type": "stream",
     "text": [
      "cost: 3.951\n",
      "loss: 0.4215209186077118\n",
      "accuracy: 77.86166381835938\n",
      "cost: 3.931\n",
      "loss: 0.3608068823814392\n",
      "accuracy: 86.3883285522461\n",
      "cost: 3.986\n",
      "loss: 0.36999383568763733\n",
      "accuracy: 87.71499633789062\n"
     ]
    }
   ],
   "source": [
    "for _ in range(5):\n",
    "    time_1 = time.time()\n",
    "    correct_count = 0\n",
    "    for batch in batch_data:\n",
    "        X, y = batch[0].to(device), batch[1].to(device)  # 转移数据到设备\n",
    "        sigma = net.forward(X)\n",
    "        loss = criterion(sigma, y)\n",
    "        y_hat = torch.max(sigma, dim=1)[1]\n",
    "        _correct_count = torch.sum(y_hat==y)\n",
    "        correct_count += _correct_count\n",
    "        loss.backward()\n",
    "        opt.step()\n",
    "        net.zero_grad()\n",
    "    time_2 = time.time()\n",
    "    cost = round(time_2-time_1,3)\n",
    "    accuracy = correct_count/60000*100\n",
    "    print('cost time:', cost)\n",
    "    print('loss:', loss.item())\n",
    "    print('accuracy:', accuracy.item())"
   ]
  },
  {
   "cell_type": "code",
   "execution_count": null,
   "id": "00240aa8-b8e8-48b8-821a-94642f67beab",
   "metadata": {},
   "outputs": [],
   "source": []
  }
 ],
 "metadata": {
  "kernelspec": {
   "display_name": "Python 3 (ipykernel)",
   "language": "python",
   "name": "python3"
  },
  "language_info": {
   "codemirror_mode": {
    "name": "ipython",
    "version": 3
   },
   "file_extension": ".py",
   "mimetype": "text/x-python",
   "name": "python",
   "nbconvert_exporter": "python",
   "pygments_lexer": "ipython3",
   "version": "3.9.8"
  }
 },
 "nbformat": 4,
 "nbformat_minor": 5
}
