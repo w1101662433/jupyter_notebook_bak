{
 "cells": [
  {
   "cell_type": "code",
   "execution_count": 1,
   "id": "4fa039ca-162a-4679-8df4-be03352e7b1c",
   "metadata": {},
   "outputs": [],
   "source": [
    "import torch"
   ]
  },
  {
   "cell_type": "code",
   "execution_count": 2,
   "id": "a02f5287-f934-4557-a27c-094348138550",
   "metadata": {},
   "outputs": [
    {
     "data": {
      "text/plain": [
       "'2.2.2+cpu'"
      ]
     },
     "execution_count": 2,
     "metadata": {},
     "output_type": "execute_result"
    }
   ],
   "source": [
    "torch.__version__"
   ]
  },
  {
   "cell_type": "code",
   "execution_count": 3,
   "id": "e9f09852-14ab-4f6c-8541-44d5df298695",
   "metadata": {},
   "outputs": [
    {
     "data": {
      "text/plain": [
       "tensor([1., 2.])"
      ]
     },
     "execution_count": 3,
     "metadata": {},
     "output_type": "execute_result"
    }
   ],
   "source": [
    "torch.Tensor([1,2])\n"
   ]
  },
  {
   "cell_type": "code",
   "execution_count": 5,
   "id": "0c688dc1-0363-45af-a3ca-a61b47a1d7a9",
   "metadata": {},
   "outputs": [
    {
     "data": {
      "text/plain": [
       "tensor([1.1000, 2.0000])"
      ]
     },
     "execution_count": 5,
     "metadata": {},
     "output_type": "execute_result"
    }
   ],
   "source": [
    "torch.tensor([1.1,2])"
   ]
  },
  {
   "cell_type": "code",
   "execution_count": 6,
   "id": "8c6530a7-ddbe-4643-aa33-ee4cb2ef47f2",
   "metadata": {},
   "outputs": [
    {
     "data": {
      "text/plain": [
       "torch.int64"
      ]
     },
     "execution_count": 6,
     "metadata": {},
     "output_type": "execute_result"
    }
   ],
   "source": [
    "t = torch.tensor([1,2])\n",
    "t.dtype"
   ]
  },
  {
   "cell_type": "code",
   "execution_count": 7,
   "id": "7235e89c-f85c-4a02-8fa4-4fe2590d95d0",
   "metadata": {},
   "outputs": [
    {
     "data": {
      "text/plain": [
       "torch.int32"
      ]
     },
     "execution_count": 7,
     "metadata": {},
     "output_type": "execute_result"
    }
   ],
   "source": [
    "import numpy as np\n",
    "a = np.array([1,2])\n",
    "t = torch.tensor(a)\n",
    "t.dtype"
   ]
  },
  {
   "cell_type": "code",
   "execution_count": 10,
   "id": "3c07399c-6ef0-420e-ae33-16fa7985188d",
   "metadata": {},
   "outputs": [
    {
     "name": "stderr",
     "output_type": "stream",
     "text": [
      "C:\\Users\\Administrator\\AppData\\Local\\Temp\\ipykernel_564\\1533875204.py:1: DeprecationWarning: an integer is required (got type float).  Implicit conversion to integers using __int__ is deprecated, and may be removed in a future version of Python.\n",
      "  a = torch.tensor([1.1, 2.2], dtype=torch.int16)\n"
     ]
    },
    {
     "data": {
      "text/plain": [
       "torch.int16"
      ]
     },
     "execution_count": 10,
     "metadata": {},
     "output_type": "execute_result"
    }
   ],
   "source": [
    "a = torch.tensor([1.1, 2.2], dtype=torch.int16)\n",
    "a.dtype"
   ]
  },
  {
   "cell_type": "code",
   "execution_count": 14,
   "id": "81c844fb-60da-451e-aead-5b918c7dd7bd",
   "metadata": {},
   "outputs": [
    {
     "data": {
      "text/plain": [
       "torch.float32"
      ]
     },
     "execution_count": 14,
     "metadata": {},
     "output_type": "execute_result"
    }
   ],
   "source": [
    "t=torch.tensor([1,2])\n",
    "t.float().dtype"
   ]
  },
  {
   "cell_type": "code",
   "execution_count": 15,
   "id": "485c7c0b-45de-4e98-8a59-a2bf008b5a9d",
   "metadata": {},
   "outputs": [
    {
     "data": {
      "text/plain": [
       "torch.float64"
      ]
     },
     "execution_count": 15,
     "metadata": {},
     "output_type": "execute_result"
    }
   ],
   "source": [
    "t.double().dtype"
   ]
  },
  {
   "cell_type": "code",
   "execution_count": 18,
   "id": "572f287f-6217-48a1-a115-194dbcd466df",
   "metadata": {},
   "outputs": [
    {
     "data": {
      "text/plain": [
       "1"
      ]
     },
     "execution_count": 18,
     "metadata": {},
     "output_type": "execute_result"
    }
   ],
   "source": [
    "t=torch.tensor([1,2])\n",
    "# 张量维度\n",
    "t.ndim"
   ]
  },
  {
   "cell_type": "code",
   "execution_count": 20,
   "id": "aacb7b02-7458-4fce-8889-b6e39f64ea8d",
   "metadata": {},
   "outputs": [
    {
     "data": {
      "text/plain": [
       "2"
      ]
     },
     "execution_count": 20,
     "metadata": {},
     "output_type": "execute_result"
    }
   ],
   "source": [
    "t=torch.tensor([[1,2],[1,2]])\n",
    "# 张量维度\n",
    "t.ndim"
   ]
  },
  {
   "cell_type": "code",
   "execution_count": 21,
   "id": "28565d1f-7a5c-45fb-938b-9c5432d978b5",
   "metadata": {},
   "outputs": [
    {
     "data": {
      "text/plain": [
       "4"
      ]
     },
     "execution_count": 21,
     "metadata": {},
     "output_type": "execute_result"
    }
   ],
   "source": [
    "t.numel()\n"
   ]
  },
  {
   "cell_type": "code",
   "execution_count": 23,
   "id": "ccbfd7e9-3ccb-4a13-9db5-fd8842bc10b8",
   "metadata": {},
   "outputs": [
    {
     "data": {
      "text/plain": [
       "tensor([[[1],\n",
       "         [2],\n",
       "         [1],\n",
       "         [2]]])"
      ]
     },
     "execution_count": 23,
     "metadata": {},
     "output_type": "execute_result"
    }
   ],
   "source": [
    "t.reshape((1,4,1))"
   ]
  },
  {
   "cell_type": "code",
   "execution_count": 25,
   "id": "b2c0b2c5-3823-44f3-9425-d426d42a0839",
   "metadata": {},
   "outputs": [
    {
     "data": {
      "text/plain": [
       "tensor([1, 2, 1, 2])"
      ]
     },
     "execution_count": 25,
     "metadata": {},
     "output_type": "execute_result"
    }
   ],
   "source": [
    "t.reshape(1,4,1).flatten()"
   ]
  },
  {
   "cell_type": "code",
   "execution_count": 26,
   "id": "b5521629-c42f-49ad-8faa-517d1571bdd8",
   "metadata": {},
   "outputs": [
    {
     "data": {
      "text/plain": [
       "tensor([[0., 0., 0.],\n",
       "        [0., 0., 0.]])"
      ]
     },
     "execution_count": 26,
     "metadata": {},
     "output_type": "execute_result"
    }
   ],
   "source": [
    "torch.zeros((2,3))"
   ]
  },
  {
   "cell_type": "code",
   "execution_count": 27,
   "id": "a8f32b3d-80f3-4380-a6bc-f59e17e5e21a",
   "metadata": {},
   "outputs": [
    {
     "data": {
      "text/plain": [
       "tensor([[1., 1., 1.],\n",
       "        [1., 1., 1.]])"
      ]
     },
     "execution_count": 27,
     "metadata": {},
     "output_type": "execute_result"
    }
   ],
   "source": [
    "torch.ones((2,3))"
   ]
  },
  {
   "cell_type": "code",
   "execution_count": 31,
   "id": "6d2bdf81-bd9a-412e-a724-da8147344224",
   "metadata": {},
   "outputs": [
    {
     "data": {
      "text/plain": [
       "tensor([[1., 0., 0., 0.],\n",
       "        [0., 1., 0., 0.],\n",
       "        [0., 0., 1., 0.],\n",
       "        [0., 0., 0., 1.]])"
      ]
     },
     "execution_count": 31,
     "metadata": {},
     "output_type": "execute_result"
    }
   ],
   "source": [
    "torch.eye(4)"
   ]
  },
  {
   "cell_type": "code",
   "execution_count": 32,
   "id": "2292a6f2-4b93-4638-8866-b5fe4c198fa7",
   "metadata": {},
   "outputs": [
    {
     "data": {
      "text/plain": [
       "tensor([[1, 0, 0, 0],\n",
       "        [0, 2, 0, 0],\n",
       "        [0, 0, 2, 0],\n",
       "        [0, 0, 0, 3]])"
      ]
     },
     "execution_count": 32,
     "metadata": {},
     "output_type": "execute_result"
    }
   ],
   "source": [
    "torch.diag(torch.tensor([1,2,2,3]))\n"
   ]
  },
  {
   "cell_type": "code",
   "execution_count": 33,
   "id": "5c11bbd8-d42f-4758-9345-00cae12fcf73",
   "metadata": {},
   "outputs": [
    {
     "data": {
      "text/plain": [
       "tensor([[0.1369, 0.5552, 0.3219],\n",
       "        [0.1051, 0.5612, 0.8302]])"
      ]
     },
     "execution_count": 33,
     "metadata": {},
     "output_type": "execute_result"
    }
   ],
   "source": [
    "torch.rand([2,3])"
   ]
  },
  {
   "cell_type": "code",
   "execution_count": 35,
   "id": "1eb80f51-6684-4083-abe3-7e928e2cf1c9",
   "metadata": {},
   "outputs": [
    {
     "data": {
      "text/plain": [
       "tensor([[-0.5354,  2.2641,  0.6878],\n",
       "        [ 0.9479, -1.0431, -1.8918]])"
      ]
     },
     "execution_count": 35,
     "metadata": {},
     "output_type": "execute_result"
    }
   ],
   "source": [
    "torch.randn([2,3])"
   ]
  },
  {
   "cell_type": "code",
   "execution_count": 37,
   "id": "102aab20-7ce5-4a91-9ae3-0f7578b4174d",
   "metadata": {},
   "outputs": [
    {
     "data": {
      "text/plain": [
       "tensor([[3, 1, 5],\n",
       "        [2, 5, 6]])"
      ]
     },
     "execution_count": 37,
     "metadata": {},
     "output_type": "execute_result"
    }
   ],
   "source": [
    "torch.randint(1,10,[2,3])"
   ]
  },
  {
   "cell_type": "code",
   "execution_count": 45,
   "id": "ea4fc71d-30b1-4eda-8e11-212bad95b0b3",
   "metadata": {},
   "outputs": [
    {
     "data": {
      "text/plain": [
       "tensor([ 1.0000,  3.2500,  5.5000,  7.7500, 10.0000])"
      ]
     },
     "execution_count": 45,
     "metadata": {},
     "output_type": "execute_result"
    }
   ],
   "source": [
    "torch.linspace(1,10,5)"
   ]
  },
  {
   "cell_type": "code",
   "execution_count": 47,
   "id": "1f7b8f55-bb8f-4697-abc1-4756c673b057",
   "metadata": {},
   "outputs": [
    {
     "data": {
      "text/plain": [
       "tensor([[-2.6671e+13,  8.3938e-43,  1.4013e-45],\n",
       "        [ 0.0000e+00,  1.4013e-45,  0.0000e+00]])"
      ]
     },
     "execution_count": 47,
     "metadata": {},
     "output_type": "execute_result"
    }
   ],
   "source": [
    "torch.empty([2,3])\n"
   ]
  },
  {
   "cell_type": "code",
   "execution_count": 48,
   "id": "5b8b9fd3-3ae7-4244-9cc0-05b5037ae3b3",
   "metadata": {},
   "outputs": [
    {
     "data": {
      "text/plain": [
       "tensor([[9, 9, 9],\n",
       "        [9, 9, 9]])"
      ]
     },
     "execution_count": 48,
     "metadata": {},
     "output_type": "execute_result"
    }
   ],
   "source": [
    "torch.full([2,3],9)"
   ]
  },
  {
   "cell_type": "code",
   "execution_count": 49,
   "id": "e9a55563-98e5-48a3-8594-07f9f75ff9c4",
   "metadata": {},
   "outputs": [],
   "source": [
    "t1 = torch.empty([2,3])\n",
    "t = t1.clone()\n"
   ]
  },
  {
   "cell_type": "code",
   "execution_count": 50,
   "id": "139666cf-ce7f-4f2c-8827-372b28a4d17f",
   "metadata": {},
   "outputs": [
    {
     "data": {
      "text/plain": [
       "tensor([[-2.6670e+13,  8.3938e-43,  2.0000e+00],\n",
       "        [ 2.5000e+00,  3.0000e+00,  3.5000e+00]])"
      ]
     },
     "execution_count": 50,
     "metadata": {},
     "output_type": "execute_result"
    }
   ],
   "source": [
    "t\n"
   ]
  },
  {
   "cell_type": "code",
   "execution_count": null,
   "id": "cc4b24a7-ae4a-4517-af3a-1ba823343ba8",
   "metadata": {},
   "outputs": [],
   "source": []
  }
 ],
 "metadata": {
  "kernelspec": {
   "display_name": "Python 3 (ipykernel)",
   "language": "python",
   "name": "python3"
  },
  "language_info": {
   "codemirror_mode": {
    "name": "ipython",
    "version": 3
   },
   "file_extension": ".py",
   "mimetype": "text/x-python",
   "name": "python",
   "nbconvert_exporter": "python",
   "pygments_lexer": "ipython3",
   "version": "3.9.8"
  }
 },
 "nbformat": 4,
 "nbformat_minor": 5
}
