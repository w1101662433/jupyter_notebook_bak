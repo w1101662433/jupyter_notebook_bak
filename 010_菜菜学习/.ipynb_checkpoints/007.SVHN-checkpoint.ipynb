{
 "cells": [
  {
   "cell_type": "code",
   "execution_count": 1,
   "id": "f8d0cac5-fbb5-460c-9efc-40c25a11dad8",
   "metadata": {},
   "outputs": [],
   "source": [
    "import time,random\n",
    "import numpy as np\n",
    "import torch\n",
    "import gc\n",
    "from torch.nn import Linear\n",
    "from torch.nn import functional as F\n",
    "import torchvision\n",
    "from torchvision.datasets import SVHN\n",
    "from torchvision.transforms import transforms\n",
    "from torchvision.models import resnet18\n",
    "from matplotlib import pyplot as plt\n",
    "from torch.utils.data import DataLoader\n",
    "from torch.optim import SGD, Adam, RMSprop\n",
    "from torch import nn\n",
    "from torchinfo import summary\n",
    "import torch.nn.init as init"
   ]
  },
  {
   "cell_type": "code",
   "execution_count": 2,
   "id": "26bdf98b-4728-4ee7-b659-dba67d08eea5",
   "metadata": {},
   "outputs": [],
   "source": [
    "device = torch.device(\"cuda\" if torch.cuda.is_available() else \"cpu\")\n",
    "torch.manual_seed(420)\n",
    "torch.cuda.manual_seed(420)\n",
    "torch.cuda.manual_seed_all(420)\n",
    "\n",
    "resnet18_ = resnet18()\n",
    "resnet18_ = resnet18_.to(device)\n",
    "\n",
    "trainT = transforms.Compose([\n",
    "    # transforms.RandomCrop(28),\n",
    "    transforms.RandomRotation([-20,20]),\n",
    "    transforms.ToTensor(),\n",
    "    # transforms.Normalize(mean=[0.485,0.456,0.406], std=[0.229,0.224,0.225])\n",
    "])\n",
    "testT = transforms.Compose([\n",
    "    # transforms.RandomCrop(28),\n",
    "    transforms.ToTensor(),\n",
    "    # transforms.Normalize(mean=[0.485,0.456,0.406],std=[0.229,0.224,0.225])\n",
    "])\n",
    "dataset_train = SVHN(root=\"./dataset/\", split=\"train\", download=False, transform=trainT) #第一次download要设成True\n",
    "dataset_test = SVHN(root=\"./dataset/\", split=\"test\", download=False, transform=testT) #第一次download要设成True\n",
    "batch_data = DataLoader(dataset=dataset_train, batch_size=1024, shuffle=True, drop_last=False)\n",
    "\n",
    "def initialize_weights(m):\n",
    "    if isinstance(m, nn.Conv2d) or isinstance(m, nn.Linear):\n",
    "        init.normal_(m.weight, mean=0.0, std=0.1)\n",
    "        if m.bias is not None:\n",
    "            init.constant_(m.bias, 0)"
   ]
  },
  {
   "cell_type": "code",
   "execution_count": 3,
   "id": "b1550930-a69f-4500-b9d7-e45087060643",
   "metadata": {},
   "outputs": [
    {
     "data": {
      "image/png": "[encoded data removed]",
      "text/plain": [
       "<Figure size 1000x1000 with 5 Axes>"
      ]
     },
     "metadata": {},
     "output_type": "display_data"
    }
   ],
   "source": [
    "def plotSample(data): #让每个数据集中显示5张图片，只能接收tensor格式的图片\n",
    "    fig, axs = plt.subplots(1, 5, figsize=(10, 10)) #建立子图\n",
    "    for i in range(5):\n",
    "        num = random.randint(0, len(data) - 1) #首先随机取随机数，随机选择五次\n",
    "        #取出对应的图片对象，make_grid函数可将一批图片转换成适合的可视化的形状，这里设置为3，即不大于3行\n",
    "        #而前景色图imshow最常见的输入模式也正是3通道\n",
    "        npimg = torchvision.utils.make_grid(data[num][0])\n",
    "        nplabel = data[num][1] #提取标签\n",
    "        #将图片（3，weight，height）转换为（weight，height，3），并放入imshow函数中转置\n",
    "        axs[i].imshow(np.transpose(npimg, (1, 2, 0)))\n",
    "        axs[i].set_title(nplabel) #给每个子图加上标签\n",
    "        axs[i].axis(\"off\") #消除坐标轴\n",
    "plotSample(dataset_train)"
   ]
  },
  {
   "cell_type": "code",
   "execution_count": 4,
   "id": "51704efc-00e4-49c7-aea2-b5668126d540",
   "metadata": {},
   "outputs": [],
   "source": [
    "resnet18_ = resnet18()\n",
    "class Model(torch.nn.Module):\n",
    "    def __init__(self,in_features=3,out_features=10):\n",
    "        super().__init__()\n",
    "        self.relu = nn.ReLU()\n",
    "        self.conv1 = torch.nn.Conv2d(in_channels=in_features, out_channels=64, kernel_size=3, bias=False) # 32\n",
    "        self.adavgpool = nn.AdaptiveAvgPool2d((1, 1))\n",
    "\n",
    "        self.block1 = nn.Sequential(self.conv1, nn.BatchNorm2d(64), self.relu)\n",
    "        self.output = torch.nn.Linear(256, out_features, bias=True)\n",
    "        self.maxpool = torch.nn.AvgPool2d(2,ceil_mode=True)\n",
    "        self.downsample = torch.nn.Sequential(nn.Conv2d(64, 128, kernel_size=1,stride=2,bias=False),nn.BatchNorm2d(128))\n",
    "        self.conv_res = torch.nn.Sequential(\n",
    "            torch.nn.Conv2d(in_channels=64, out_channels=128, kernel_size=3, padding=1, stride=2, bias=False),\n",
    "            nn.BatchNorm2d(128),\n",
    "            self.relu,\n",
    "            torch.nn.Conv2d(in_channels=128, out_channels=128, kernel_size=3, padding=1, bias=False),\n",
    "            nn.BatchNorm2d(128),\n",
    "        )\n",
    "        self.downsample2 = torch.nn.Sequential(nn.Conv2d(128, 256, kernel_size=1,stride=2, bias=False), nn.BatchNorm2d(256))\n",
    "        self.conv_res2 = torch.nn.Sequential(\n",
    "            torch.nn.Conv2d(in_channels=128, out_channels=256, kernel_size=3, padding=1, stride=2, bias=False),\n",
    "            nn.BatchNorm2d(256),\n",
    "            self.relu,\n",
    "            torch.nn.Conv2d(in_channels=256, out_channels=256, kernel_size=3, padding=1, bias=False),\n",
    "            nn.BatchNorm2d(256),\n",
    "        )\n",
    "        self.conv_res3 = torch.nn.Sequential(\n",
    "            torch.nn.Conv2d(in_channels=128, out_channels=128, kernel_size=3, padding=1, stride=1, bias=False),\n",
    "            nn.BatchNorm2d(128),\n",
    "            self.relu,\n",
    "            torch.nn.Conv2d(in_channels=128, out_channels=128, kernel_size=3, padding=1, bias=False),\n",
    "            nn.BatchNorm2d(128),\n",
    "        )\n",
    "        self.conv_res4 = torch.nn.Sequential(\n",
    "            torch.nn.Conv2d(in_channels=256, out_channels=256, kernel_size=3, padding=1, stride=1, bias=False),\n",
    "            nn.BatchNorm2d(256),\n",
    "            self.relu,\n",
    "            torch.nn.Conv2d(in_channels=256, out_channels=256, kernel_size=3, padding=1, bias=False),\n",
    "            nn.BatchNorm2d(256),\n",
    "        )\n",
    "        \n",
    "    def forward(self,x):\n",
    "        x = self.block1(x)\n",
    "        \n",
    "        identity = self.downsample(x)\n",
    "        x = self.conv_res(x)\n",
    "        x += identity\n",
    "        x = self.relu(x)\n",
    "        \n",
    "        x = self.conv_res3(x)\n",
    "        x += identity\n",
    "        x = self.relu(x)\n",
    "        # x = self.layer2(x)\n",
    "       \n",
    "        identity = self.downsample2(x)\n",
    "        x = self.conv_res2(x)\n",
    "        x += identity\n",
    "        x = self.relu(x)\n",
    "        x = self.conv_res4(x)\n",
    "        x += identity\n",
    "        x = self.relu(x)\n",
    "        # x = self.layer3(x)\n",
    "\n",
    "        x = self.adavgpool(x)\n",
    "        x = x.view(len(x), -1)\n",
    "        x = self.output(x)\n",
    "        return x"
   ]
  },
  {
   "cell_type": "code",
   "execution_count": 5,
   "id": "060bfec9-1a7e-4dde-87d6-cc405713699e",
   "metadata": {},
   "outputs": [],
   "source": [
    "net = Model(in_features=3, out_features=10)\n",
    "net.to(device,non_blocking=True)\n",
    "net.apply(initialize_weights)\n",
    "criterion = torch.nn.CrossEntropyLoss()"
   ]
  },
  {
   "cell_type": "code",
   "execution_count": 8,
   "id": "892130da-2cc7-4519-8719-3c9357223388",
   "metadata": {
    "scrolled": true
   },
   "outputs": [
    {
     "name": "stdout",
     "output_type": "stream",
     "text": [
      "cost time: 20.151\n",
      "loss: 0.2187671661376953\n",
      "accuracy: 95.80517578125\n",
      "cost time: 18.872\n",
      "loss: 0.11076182126998901\n",
      "accuracy: 96.39351654052734\n",
      "cost time: 19.47\n",
      "loss: 0.12634138762950897\n",
      "accuracy: 96.59827423095703\n",
      "cost time: 18.153\n",
      "loss: 0.09618335217237473\n",
      "accuracy: 96.87265014648438\n",
      "cost time: 17.651\n",
      "loss: 0.10677137970924377\n",
      "accuracy: 97.12518310546875\n",
      "cost time: 17.667\n",
      "loss: 0.1138964295387268\n",
      "accuracy: 97.24258422851562\n",
      "cost time: 18.194\n",
      "loss: 0.08357124775648117\n",
      "accuracy: 97.51559448242188\n",
      "cost time: 17.624\n",
      "loss: 0.0766318291425705\n",
      "accuracy: 97.712158203125\n",
      "cost time: 17.558\n",
      "loss: 0.09025860577821732\n",
      "accuracy: 97.73809814453125\n"
     ]
    }
   ],
   "source": [
    "opt = Adam(net.parameters(), lr=0.002)\n",
    "for _ in range(9):\n",
    "    time_1 = time.time()\n",
    "    correct_count = 0\n",
    "    for batch in batch_data:\n",
    "        X, y = batch[0].to(device), batch[1].to(device)  # 转移数据到设备\n",
    "        sigma = net.forward(X)\n",
    "        loss = criterion(sigma, y)\n",
    "        y_hat = torch.max(sigma, dim=1)[1]\n",
    "        _correct_count = torch.sum(y_hat==y)\n",
    "        correct_count += _correct_count\n",
    "        loss.backward()\n",
    "        opt.step()\n",
    "        net.zero_grad()\n",
    "        del X,y\n",
    "    time_2 = time.time()\n",
    "    cost = round(time_2-time_1,3)\n",
    "    accuracy = correct_count/len(dataset_train)*100\n",
    "    print('cost time:', cost)\n",
    "    print('loss:', loss.item())\n",
    "    print('accuracy:', accuracy.item())"
   ]
  },
  {
   "cell_type": "code",
   "execution_count": 10,
   "id": "e07d9960-7b3a-4309-a99f-b3743fb4f186",
   "metadata": {},
   "outputs": [
    {
     "name": "stdout",
     "output_type": "stream",
     "text": [
      "cost time: 2.654\n",
      "loss: 0.22407712042331696\n",
      "accuracy: 94.7756576538086\n"
     ]
    }
   ],
   "source": [
    "# 真实值预测\n",
    "batch_test = DataLoader(dataset=dataset_test, batch_size=1024, shuffle=True, drop_last=False)\n",
    "time_1 = time.time()\n",
    "correct_count = 0\n",
    "for batch in batch_test:\n",
    "    X, y = batch[0].to(device), batch[1].to(device)  # 转移数据到设备\n",
    "    sigma = net.forward(X)\n",
    "    loss = criterion(sigma, y)\n",
    "    y_hat = torch.max(sigma, dim=1)[1]\n",
    "    _correct_count = torch.sum(y_hat==y)\n",
    "    correct_count += _correct_count\n",
    "time_2 = time.time()\n",
    "cost = round(time_2-time_1,3)\n",
    "accuracy = correct_count/len(dataset_test)*100\n",
    "print('cost time:', cost)\n",
    "print('loss:', loss.item())\n",
    "print('accuracy:', accuracy.item())"
   ]
  },
  {
   "cell_type": "code",
   "execution_count": null,
   "id": "962b2a46-51f3-498e-bd7e-1f73eb4fc544",
   "metadata": {},
   "outputs": [],
   "source": []
  }
 ],
 "metadata": {
  "kernelspec": {
   "display_name": "Python 3 (ipykernel)",
   "language": "python",
   "name": "python3"
  },
  "language_info": {
   "codemirror_mode": {
    "name": "ipython",
    "version": 3
   },
   "file_extension": ".py",
   "mimetype": "text/x-python",
   "name": "python",
   "nbconvert_exporter": "python",
   "pygments_lexer": "ipython3",
   "version": "3.9.8"
  }
 },
 "nbformat": 4,
 "nbformat_minor": 5
}
