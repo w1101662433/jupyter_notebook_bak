{
 "cells": [
  {
   "cell_type": "code",
   "execution_count": 1,
   "id": "1bc45df6-1ba7-4c31-bdf8-2dc415a26341",
   "metadata": {},
   "outputs": [],
   "source": [
    "import torch\n",
    "from torch.nn import functional as F"
   ]
  },
  {
   "cell_type": "code",
   "execution_count": 44,
   "id": "dc523cdd-3bd9-4dda-89a7-6f982c5c8d4e",
   "metadata": {},
   "outputs": [],
   "source": [
    "class Model(torch.nn.Module):\n",
    "    def __init__(self, in_feature=20,out_feature=3):\n",
    "        \"\"\"\n",
    "        in_feature: 输入层神经元个数\n",
    "        out_feature: 输出层神经元个数\n",
    "        \"\"\"\n",
    "        super().__init__()\n",
    "        self.linear1 = torch.nn.Linear(in_feature,13,bias=True)\n",
    "        self.linear2 = torch.nn.Linear(13,8,bias=True)\n",
    "        self.output = torch.nn.Linear(8,out_feature,bias=True)\n",
    "        \n",
    "\n",
    "    def forward(self,X):\n",
    "        z1 = self.linear1(X)\n",
    "        sigma1 = F.relu(z1)\n",
    "        z2 = self.linear2(sigma1)\n",
    "        sigma2 = F.sigmoid(z2)\n",
    "        output = self.output(sigma2)\n",
    "        sigma3 = F.softmax(output,dim=1)\n",
    "        return sigma3\n",
    "        "
   ]
  },
  {
   "cell_type": "code",
   "execution_count": 45,
   "id": "90f8a0ee-aaff-4be4-ab1e-2f6563b29014",
   "metadata": {},
   "outputs": [],
   "source": [
    "torch.random.manual_seed(420)\n",
    "X = torch.rand([500,20],dtype=torch.float32)\n",
    "y = torch.randint(0,3,[500,1],dtype=torch.float32)"
   ]
  },
  {
   "cell_type": "code",
   "execution_count": 46,
   "id": "2792a6fe-847c-4302-8c8e-c88f59493c65",
   "metadata": {},
   "outputs": [
    {
     "data": {
      "text/plain": [
       "tensor([0., 1., 2.])"
      ]
     },
     "execution_count": 46,
     "metadata": {},
     "output_type": "execute_result"
    }
   ],
   "source": [
    "y.unique()"
   ]
  },
  {
   "cell_type": "code",
   "execution_count": 49,
   "id": "0b9a0bad-e6c2-48c5-a359-fd74443a1daf",
   "metadata": {},
   "outputs": [
    {
     "data": {
      "text/plain": [
       "tensor([[0.4140, 0.3496, 0.2365],\n",
       "        [0.4210, 0.3454, 0.2336],\n",
       "        [0.4011, 0.3635, 0.2355],\n",
       "        ...,\n",
       "        [0.4196, 0.3452, 0.2352],\n",
       "        [0.4153, 0.3455, 0.2392],\n",
       "        [0.4153, 0.3442, 0.2405]], grad_fn=<SoftmaxBackward0>)"
      ]
     },
     "execution_count": 49,
     "metadata": {},
     "output_type": "execute_result"
    }
   ],
   "source": [
    "torch.random.manual_seed(420)\n",
    "net = Model(in_feature=20,out_feature=3)\n",
    "net.forward(X)"
   ]
  },
  {
   "cell_type": "code",
   "execution_count": 50,
   "id": "203129dd-c3bd-44de-b5ea-261e7a7d8179",
   "metadata": {},
   "outputs": [
    {
     "data": {
      "text/plain": [
       "tensor([[0.4140, 0.3496, 0.2365],\n",
       "        [0.4210, 0.3454, 0.2336],\n",
       "        [0.4011, 0.3635, 0.2355],\n",
       "        ...,\n",
       "        [0.4196, 0.3452, 0.2352],\n",
       "        [0.4153, 0.3455, 0.2392],\n",
       "        [0.4153, 0.3442, 0.2405]], grad_fn=<SoftmaxBackward0>)"
      ]
     },
     "execution_count": 50,
     "metadata": {},
     "output_type": "execute_result"
    }
   ],
   "source": []
  },
  {
   "cell_type": "code",
   "execution_count": 52,
   "id": "2bcf6446-7c3d-470a-85ab-afdcc6fa6468",
   "metadata": {},
   "outputs": [
    {
     "data": {
      "text/plain": [
       "torch.Size([13, 20])"
      ]
     },
     "execution_count": 52,
     "metadata": {},
     "output_type": "execute_result"
    }
   ],
   "source": [
    "net.linear1.weight.size()"
   ]
  },
  {
   "cell_type": "code",
   "execution_count": 53,
   "id": "6389bfc7-594b-430a-9220-6f7393cd15ad",
   "metadata": {},
   "outputs": [
    {
     "data": {
      "text/plain": [
       "torch.Size([13])"
      ]
     },
     "execution_count": 53,
     "metadata": {},
     "output_type": "execute_result"
    }
   ],
   "source": [
    "net.linear1.bias.size()"
   ]
  },
  {
   "cell_type": "code",
   "execution_count": 54,
   "id": "55243922-24ec-49a3-b50b-cb03a49eda6b",
   "metadata": {},
   "outputs": [
    {
     "data": {
      "text/plain": [
       "True"
      ]
     },
     "execution_count": 54,
     "metadata": {},
     "output_type": "execute_result"
    }
   ],
   "source": [
    "net.training # 是否用于训练"
   ]
  },
  {
   "cell_type": "code",
   "execution_count": 56,
   "id": "d351422c-455b-4e0c-95c6-06ec29ffc40a",
   "metadata": {},
   "outputs": [
    {
     "data": {
      "text/plain": [
       "Model(\n",
       "  (linear1): Linear(in_features=20, out_features=13, bias=True)\n",
       "  (linear2): Linear(in_features=13, out_features=8, bias=True)\n",
       "  (output): Linear(in_features=8, out_features=3, bias=True)\n",
       ")"
      ]
     },
     "execution_count": 56,
     "metadata": {},
     "output_type": "execute_result"
    }
   ],
   "source": [
    "#net.cuda() # 将整个网络转移到GPU上\n",
    "net.cpu() # 将整个网络转移到CPU上"
   ]
  },
  {
   "cell_type": "code",
   "execution_count": 59,
   "id": "9cd261d7-da66-4eb2-8e1f-2853608a59d9",
   "metadata": {},
   "outputs": [
    {
     "data": {
      "text/plain": [
       "<generator object Module.parameters at 0x000000002F7D0430>"
      ]
     },
     "execution_count": 59,
     "metadata": {},
     "output_type": "execute_result"
    }
   ],
   "source": [
    "net.parameters() # 全部参数"
   ]
  },
  {
   "cell_type": "code",
   "execution_count": null,
   "id": "3057e754-b4a0-43dd-9b3b-b548b36bf3cb",
   "metadata": {},
   "outputs": [],
   "source": []
  }
 ],
 "metadata": {
  "kernelspec": {
   "display_name": "Python 3 (ipykernel)",
   "language": "python",
   "name": "python3"
  },
  "language_info": {
   "codemirror_mode": {
    "name": "ipython",
    "version": 3
   },
   "file_extension": ".py",
   "mimetype": "text/x-python",
   "name": "python",
   "nbconvert_exporter": "python",
   "pygments_lexer": "ipython3",
   "version": "3.9.8"
  }
 },
 "nbformat": 4,
 "nbformat_minor": 5
}
