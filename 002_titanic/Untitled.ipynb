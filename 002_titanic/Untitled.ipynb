{
 "cells": [
  {
   "cell_type": "code",
   "execution_count": 332,
   "id": "4714051f",
   "metadata": {},
   "outputs": [],
   "source": [
    "import numpy as np\n",
    "import pandas as pd\n",
    "from keras.models import Sequential\n",
    "from keras.layers import Dense\n",
    "import matplotlib.pyplot as plt\n",
    "from sklearn import preprocessing  "
   ]
  },
  {
   "cell_type": "code",
   "execution_count": 333,
   "id": "b75ce29d",
   "metadata": {},
   "outputs": [],
   "source": [
    "# 导入数据\n",
    "train_data = pd.read_csv('input/train.csv')\n",
    "test_data = pd.read_csv('input/test.csv')\n",
    "PassengerId = test_data['PassengerId']"
   ]
  },
  {
   "cell_type": "code",
   "execution_count": 334,
   "id": "b18721a4",
   "metadata": {},
   "outputs": [],
   "source": [
    "# 定义保留的列\n",
    "cols = ['Survived','Name','Pclass','Sex','Age','SibSp','Parch','Fare','Embarked']\n",
    "train_data = train_data[cols]\n",
    "cols2 = ['Name','Pclass','Sex','Age','SibSp','Parch','Fare','Embarked']\n",
    "test_data = test_data[cols2]"
   ]
  },
  {
   "cell_type": "code",
   "execution_count": 335,
   "id": "da52358e",
   "metadata": {},
   "outputs": [],
   "source": [
    "# 将训练样本分一部分作为测试样本\n",
    "msk = np.random.rand(len(train_data)) < 0.9\n",
    "train_data2 = train_data[msk]\n",
    "test_data2 = train_data[~msk]"
   ]
  },
  {
   "cell_type": "code",
   "execution_count": 336,
   "id": "a81bccdd",
   "metadata": {},
   "outputs": [
    {
     "name": "stdout",
     "output_type": "stream",
     "text": [
      "891\n",
      "797\n",
      "94\n"
     ]
    }
   ],
   "source": [
    "print(len(train_data))\n",
    "print(len(train_data2))\n",
    "print(len(test_data2))"
   ]
  },
  {
   "cell_type": "code",
   "execution_count": 337,
   "id": "a16f51d4",
   "metadata": {},
   "outputs": [],
   "source": [
    "\n",
    "# 定义一个数据处理函数 换掉字符串 返回特征值和标签\n",
    "def PreprocessData(data):\n",
    "    # name字段用不到 先删除\n",
    "    data = data.drop(['Name'],axis=1)\n",
    "    # age和farm中有一些值为空 均值代替\n",
    "    age_mean = data['Age'].mean()\n",
    "    data['Age'] = data['Age'].fillna(age_mean)\n",
    "    fare_mean = data['Fare'].mean()\n",
    "    data['Fare'] = data['Fare'].fillna(fare_mean)\n",
    "    # 替换Sex字符串\n",
    "    data['Sex'] = data['Sex'].map({'female':0,'male':1}).astype(int)\n",
    "    \n",
    "    if 'Survived' in data.columns:\n",
    "        Labels = data['Survived']\n",
    "        _data = data.drop('Survived', axis=1)\n",
    "    else:\n",
    "        Labels = []\n",
    "        _data = data\n",
    "    # 将embarked转换为一位热编码\n",
    "    data_OneHot = pd.get_dummies(data=_data,columns=['Embarked','Pclass'])\n",
    "    \n",
    "    # 获取特征值和标签\n",
    "    ndarray = data_OneHot.values\n",
    "    Features = ndarray\n",
    "    \n",
    "    \n",
    "    # 特征值再做标准化处理\n",
    "    minmax_scaled = preprocessing.MinMaxScaler(feature_range=(0,1))\n",
    "    scaled_features = minmax_scaled.fit_transform(Features)\n",
    "    \n",
    "    return scaled_features,Labels"
   ]
  },
  {
   "cell_type": "code",
   "execution_count": 338,
   "id": "27cafe2a",
   "metadata": {},
   "outputs": [],
   "source": [
    "train_features,train_labels = PreprocessData(train_data2)\n",
    "test_features,test_labels = PreprocessData(test_data2)\n",
    "test_data, _= PreprocessData(test_data)"
   ]
  },
  {
   "cell_type": "code",
   "execution_count": 339,
   "id": "81fa40ac",
   "metadata": {},
   "outputs": [],
   "source": [
    "model = Sequential()  # 初始化\n",
    "model.add(Dense(units=40,input_dim=11,kernel_initializer='uniform',activation='relu'))  # 隐层1 40个神经元 9个特征输入 均匀化初始化权重 relu激活函数\n",
    "model.add(Dense(units=30,kernel_initializer='uniform',activation='relu')) # 隐层2 30个神经元\n",
    "model.add(Dense(units=1,kernel_initializer='uniform',activation='sigmoid')) # 输出层 1个输出神经元 输出0或1"
   ]
  },
  {
   "cell_type": "code",
   "execution_count": 340,
   "id": "27ff0ac2",
   "metadata": {},
   "outputs": [
    {
     "name": "stdout",
     "output_type": "stream",
     "text": [
      "Epoch 1/30\n",
      "12/12 - 1s - loss: 0.6921 - accuracy: 0.6025 - val_loss: 0.6903 - val_accuracy: 0.6125 - 669ms/epoch - 56ms/step\n",
      "Epoch 2/30\n",
      "12/12 - 0s - loss: 0.6886 - accuracy: 0.6165 - val_loss: 0.6851 - val_accuracy: 0.6125 - 36ms/epoch - 3ms/step\n",
      "Epoch 3/30\n",
      "12/12 - 0s - loss: 0.6808 - accuracy: 0.6165 - val_loss: 0.6723 - val_accuracy: 0.6125 - 36ms/epoch - 3ms/step\n",
      "Epoch 4/30\n",
      "12/12 - 0s - loss: 0.6658 - accuracy: 0.6165 - val_loss: 0.6476 - val_accuracy: 0.6125 - 34ms/epoch - 3ms/step\n",
      "Epoch 5/30\n",
      "12/12 - 0s - loss: 0.6391 - accuracy: 0.6290 - val_loss: 0.6108 - val_accuracy: 0.6500 - 37ms/epoch - 3ms/step\n",
      "Epoch 6/30\n",
      "12/12 - 0s - loss: 0.6065 - accuracy: 0.6569 - val_loss: 0.5727 - val_accuracy: 0.6625 - 34ms/epoch - 3ms/step\n",
      "Epoch 7/30\n",
      "12/12 - 0s - loss: 0.5731 - accuracy: 0.6890 - val_loss: 0.5410 - val_accuracy: 0.7750 - 35ms/epoch - 3ms/step\n",
      "Epoch 8/30\n",
      "12/12 - 0s - loss: 0.5461 - accuracy: 0.7490 - val_loss: 0.5186 - val_accuracy: 0.7875 - 33ms/epoch - 3ms/step\n",
      "Epoch 9/30\n",
      "12/12 - 0s - loss: 0.5246 - accuracy: 0.7880 - val_loss: 0.5039 - val_accuracy: 0.7750 - 34ms/epoch - 3ms/step\n",
      "Epoch 10/30\n",
      "12/12 - 0s - loss: 0.5062 - accuracy: 0.7992 - val_loss: 0.4935 - val_accuracy: 0.8000 - 33ms/epoch - 3ms/step\n",
      "Epoch 11/30\n",
      "12/12 - 0s - loss: 0.4929 - accuracy: 0.8075 - val_loss: 0.4870 - val_accuracy: 0.8000 - 37ms/epoch - 3ms/step\n",
      "Epoch 12/30\n",
      "12/12 - 0s - loss: 0.4847 - accuracy: 0.8117 - val_loss: 0.4799 - val_accuracy: 0.8000 - 36ms/epoch - 3ms/step\n",
      "Epoch 13/30\n",
      "12/12 - 0s - loss: 0.4775 - accuracy: 0.8020 - val_loss: 0.4745 - val_accuracy: 0.7875 - 35ms/epoch - 3ms/step\n",
      "Epoch 14/30\n",
      "12/12 - 0s - loss: 0.4703 - accuracy: 0.8075 - val_loss: 0.4708 - val_accuracy: 0.7750 - 34ms/epoch - 3ms/step\n",
      "Epoch 15/30\n",
      "12/12 - 0s - loss: 0.4659 - accuracy: 0.8006 - val_loss: 0.4677 - val_accuracy: 0.7750 - 36ms/epoch - 3ms/step\n",
      "Epoch 16/30\n",
      "12/12 - 0s - loss: 0.4623 - accuracy: 0.7964 - val_loss: 0.4637 - val_accuracy: 0.7750 - 39ms/epoch - 3ms/step\n",
      "Epoch 17/30\n",
      "12/12 - 0s - loss: 0.4592 - accuracy: 0.7936 - val_loss: 0.4598 - val_accuracy: 0.7750 - 37ms/epoch - 3ms/step\n",
      "Epoch 18/30\n",
      "12/12 - 0s - loss: 0.4562 - accuracy: 0.7978 - val_loss: 0.4559 - val_accuracy: 0.7750 - 36ms/epoch - 3ms/step\n",
      "Epoch 19/30\n",
      "12/12 - 0s - loss: 0.4555 - accuracy: 0.7964 - val_loss: 0.4534 - val_accuracy: 0.7750 - 36ms/epoch - 3ms/step\n",
      "Epoch 20/30\n",
      "12/12 - 0s - loss: 0.4535 - accuracy: 0.7950 - val_loss: 0.4535 - val_accuracy: 0.7750 - 33ms/epoch - 3ms/step\n",
      "Epoch 21/30\n",
      "12/12 - 0s - loss: 0.4514 - accuracy: 0.7950 - val_loss: 0.4499 - val_accuracy: 0.7875 - 36ms/epoch - 3ms/step\n",
      "Epoch 22/30\n",
      "12/12 - 0s - loss: 0.4498 - accuracy: 0.8006 - val_loss: 0.4445 - val_accuracy: 0.7875 - 36ms/epoch - 3ms/step\n",
      "Epoch 23/30\n",
      "12/12 - 0s - loss: 0.4482 - accuracy: 0.7950 - val_loss: 0.4446 - val_accuracy: 0.7875 - 36ms/epoch - 3ms/step\n",
      "Epoch 24/30\n",
      "12/12 - 0s - loss: 0.4468 - accuracy: 0.8020 - val_loss: 0.4446 - val_accuracy: 0.7875 - 33ms/epoch - 3ms/step\n",
      "Epoch 25/30\n",
      "12/12 - 0s - loss: 0.4467 - accuracy: 0.8145 - val_loss: 0.4407 - val_accuracy: 0.7875 - 36ms/epoch - 3ms/step\n",
      "Epoch 26/30\n",
      "12/12 - 0s - loss: 0.4442 - accuracy: 0.8033 - val_loss: 0.4392 - val_accuracy: 0.7875 - 35ms/epoch - 3ms/step\n",
      "Epoch 27/30\n",
      "12/12 - 0s - loss: 0.4436 - accuracy: 0.8033 - val_loss: 0.4395 - val_accuracy: 0.7875 - 35ms/epoch - 3ms/step\n",
      "Epoch 28/30\n",
      "12/12 - 0s - loss: 0.4435 - accuracy: 0.8033 - val_loss: 0.4363 - val_accuracy: 0.7875 - 34ms/epoch - 3ms/step\n",
      "Epoch 29/30\n",
      "12/12 - 0s - loss: 0.4446 - accuracy: 0.8131 - val_loss: 0.4360 - val_accuracy: 0.8000 - 36ms/epoch - 3ms/step\n",
      "Epoch 30/30\n",
      "12/12 - 0s - loss: 0.4417 - accuracy: 0.8047 - val_loss: 0.4338 - val_accuracy: 0.8000 - 35ms/epoch - 3ms/step\n"
     ]
    }
   ],
   "source": [
    "# 开始训练\n",
    "# 定义训练方式 \n",
    "# 二分 交叉熵损失函数  adam优化器 accuracy作为评判指标\n",
    "model.compile(loss='binary_crossentropy',optimizer='adam',metrics=['accuracy'])\n",
    "# 开始训练\n",
    "# 90%作为训练  10%作为验证 30个训练周期 每批次30个 显示训练过程\n",
    "train_history=model.fit(train_features,train_labels,validation_split=0.1,epochs=30,batch_size=64,verbose=2)\n"
   ]
  },
  {
   "cell_type": "code",
   "execution_count": 341,
   "id": "b466b314",
   "metadata": {},
   "outputs": [
    {
     "name": "stdout",
     "output_type": "stream",
     "text": [
      "3/3 [==============================] - 0s 2ms/step - loss: 0.4362 - accuracy: 0.8085\n",
      "0.8085106611251831\n"
     ]
    }
   ],
   "source": [
    "scores = model.evaluate(test_features,test_labels)\n",
    "print(scores[1])"
   ]
  },
  {
   "cell_type": "code",
   "execution_count": 342,
   "id": "f654e2fa",
   "metadata": {},
   "outputs": [
    {
     "name": "stdout",
     "output_type": "stream",
     "text": [
      "14/14 [==============================] - 0s 844us/step\n"
     ]
    }
   ],
   "source": [
    "result = model.predict(test_data)"
   ]
  },
  {
   "cell_type": "code",
   "execution_count": 343,
   "id": "ad254624",
   "metadata": {},
   "outputs": [],
   "source": [
    "df = pd.DataFrame()\n",
    "df['PassengerId'] = PassengerId\n",
    "df['Survived'] = result.reshape(-1)\n",
    "df['Survived'] = df['Survived'].apply(lambda x: 1 if x>=0.5 else 0 )"
   ]
  },
  {
   "cell_type": "code",
   "execution_count": 344,
   "id": "5cf8e0b8",
   "metadata": {},
   "outputs": [
    {
     "data": {
      "text/html": [
       "<div>\n",
       "<style scoped>\n",
       "    .dataframe tbody tr th:only-of-type {\n",
       "        vertical-align: middle;\n",
       "    }\n",
       "\n",
       "    .dataframe tbody tr th {\n",
       "        vertical-align: top;\n",
       "    }\n",
       "\n",
       "    .dataframe thead th {\n",
       "        text-align: right;\n",
       "    }\n",
       "</style>\n",
       "<table border=\"1\" class=\"dataframe\">\n",
       "  <thead>\n",
       "    <tr style=\"text-align: right;\">\n",
       "      <th></th>\n",
       "      <th>PassengerId</th>\n",
       "      <th>Survived</th>\n",
       "    </tr>\n",
       "  </thead>\n",
       "  <tbody>\n",
       "    <tr>\n",
       "      <th>0</th>\n",
       "      <td>892</td>\n",
       "      <td>0</td>\n",
       "    </tr>\n",
       "    <tr>\n",
       "      <th>1</th>\n",
       "      <td>893</td>\n",
       "      <td>0</td>\n",
       "    </tr>\n",
       "    <tr>\n",
       "      <th>2</th>\n",
       "      <td>894</td>\n",
       "      <td>0</td>\n",
       "    </tr>\n",
       "    <tr>\n",
       "      <th>3</th>\n",
       "      <td>895</td>\n",
       "      <td>0</td>\n",
       "    </tr>\n",
       "    <tr>\n",
       "      <th>4</th>\n",
       "      <td>896</td>\n",
       "      <td>1</td>\n",
       "    </tr>\n",
       "    <tr>\n",
       "      <th>...</th>\n",
       "      <td>...</td>\n",
       "      <td>...</td>\n",
       "    </tr>\n",
       "    <tr>\n",
       "      <th>413</th>\n",
       "      <td>1305</td>\n",
       "      <td>0</td>\n",
       "    </tr>\n",
       "    <tr>\n",
       "      <th>414</th>\n",
       "      <td>1306</td>\n",
       "      <td>1</td>\n",
       "    </tr>\n",
       "    <tr>\n",
       "      <th>415</th>\n",
       "      <td>1307</td>\n",
       "      <td>0</td>\n",
       "    </tr>\n",
       "    <tr>\n",
       "      <th>416</th>\n",
       "      <td>1308</td>\n",
       "      <td>0</td>\n",
       "    </tr>\n",
       "    <tr>\n",
       "      <th>417</th>\n",
       "      <td>1309</td>\n",
       "      <td>0</td>\n",
       "    </tr>\n",
       "  </tbody>\n",
       "</table>\n",
       "<p>418 rows × 2 columns</p>\n",
       "</div>"
      ],
      "text/plain": [
       "     PassengerId  Survived\n",
       "0            892         0\n",
       "1            893         0\n",
       "2            894         0\n",
       "3            895         0\n",
       "4            896         1\n",
       "..           ...       ...\n",
       "413         1305         0\n",
       "414         1306         1\n",
       "415         1307         0\n",
       "416         1308         0\n",
       "417         1309         0\n",
       "\n",
       "[418 rows x 2 columns]"
      ]
     },
     "execution_count": 344,
     "metadata": {},
     "output_type": "execute_result"
    }
   ],
   "source": [
    "df"
   ]
  },
  {
   "cell_type": "code",
   "execution_count": 345,
   "id": "2df60d45",
   "metadata": {},
   "outputs": [],
   "source": [
    "df.to_csv('predict.csv',index=False)"
   ]
  },
  {
   "cell_type": "code",
   "execution_count": null,
   "id": "c891ec24",
   "metadata": {},
   "outputs": [],
   "source": []
  }
 ],
 "metadata": {
  "kernelspec": {
   "display_name": "Python 3 (ipykernel)",
   "language": "python",
   "name": "python3"
  },
  "language_info": {
   "codemirror_mode": {
    "name": "ipython",
    "version": 3
   },
   "file_extension": ".py",
   "mimetype": "text/x-python",
   "name": "python",
   "nbconvert_exporter": "python",
   "pygments_lexer": "ipython3",
   "version": "3.7.8"
  }
 },
 "nbformat": 4,
 "nbformat_minor": 5
}
