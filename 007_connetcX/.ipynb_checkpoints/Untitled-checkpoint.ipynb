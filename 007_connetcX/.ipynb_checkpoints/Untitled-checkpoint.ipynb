{
 "cells": [
  {
   "cell_type": "code",
   "execution_count": 17,
   "id": "8e1db34b",
   "metadata": {},
   "outputs": [],
   "source": [
    "import random\n",
    "import tqdm\n",
    "import numpy as np\n",
    "import pandas as pd\n",
    "import matplotlib.pyplot as plt\n",
    "%matplotlib inline\n",
    "\n",
    "import gym\n",
    "from kaggle_environments import make, evaluate\n",
    "from gym import spaces\n",
    "\n",
    "class ConnectFourGym(gym.Env):\n",
    "    def __init__(self, agent2=\"random\"):\n",
    "        ks_env = make(\"connectx\", debug=True)\n",
    "        self.env = ks_env.train([None, agent2])\n",
    "        self.rows = ks_env.configuration.rows\n",
    "        self.columns = ks_env.configuration.columns\n",
    "        # Learn about spaces here: http://gym.openai.com/docs/#spaces\n",
    "        self.action_space = spaces.Discrete(self.columns)\n",
    "        self.observation_space = spaces.Box(low=0, high=2, \n",
    "                                            shape=(1,self.rows,self.columns), dtype=int)\n",
    "        # Tuple corresponding to the min and max possible rewards\n",
    "        self.reward_range = (-10, 1)\n",
    "        # StableBaselines throws error if these are not defined\n",
    "        self.spec = None\n",
    "        self.metadata = None\n",
    "    def reset(self):\n",
    "        self.obs = self.env.reset()\n",
    "        return np.array(self.obs['board']).reshape(1,self.rows,self.columns)\n",
    "    def change_reward(self, old_reward, done):\n",
    "        if old_reward == 1: # The agent won the game\n",
    "            return 1\n",
    "        elif done: # The opponent won the game\n",
    "            return -1\n",
    "        else: # Reward 1/42\n",
    "            return 1/(self.rows*self.columns)\n",
    "    def step(self, action):\n",
    "        # Check if agent's move is valid\n",
    "        is_valid = (self.obs['board'][int(action)] == 0)\n",
    "        if is_valid: # Play the move\n",
    "            self.obs, old_reward, done, _ = self.env.step(int(action))\n",
    "            reward = self.change_reward(old_reward, done)\n",
    "        else: # End the game and penalize agent\n",
    "            reward, done, _ = -10, True, {}\n",
    "        return np.array(self.obs['board']).reshape(1,self.rows,self.columns), reward, done, _"
   ]
  },
  {
   "cell_type": "code",
   "execution_count": 18,
   "id": "a0315ca6",
   "metadata": {},
   "outputs": [],
   "source": [
    "# Create ConnectFour environment \n",
    "env = ConnectFourGym(agent2=\"random\")"
   ]
  },
  {
   "cell_type": "code",
   "execution_count": 19,
   "id": "c09d5b97",
   "metadata": {},
   "outputs": [
    {
     "name": "stdout",
     "output_type": "stream",
     "text": [
      "Looking in indexes: https://pypi.douban.com/simple\n",
      "Requirement already satisfied: stable-baselines3 in d:\\python\\python311\\lib\\site-packages (1.4.0)\n",
      "Requirement already satisfied: gym<0.20,>=0.17 in d:\\python\\python311\\lib\\site-packages (from stable-baselines3) (0.19.0)\n",
      "Requirement already satisfied: numpy in d:\\python\\python311\\lib\\site-packages (from stable-baselines3) (1.23.5)\n",
      "Requirement already satisfied: torch>=1.8.1 in d:\\python\\python311\\lib\\site-packages (from stable-baselines3) (2.0.0)\n",
      "Requirement already satisfied: cloudpickle in d:\\python\\python311\\lib\\site-packages (from stable-baselines3) (1.6.0)\n",
      "Requirement already satisfied: pandas in d:\\python\\python311\\lib\\site-packages (from stable-baselines3) (1.5.3)\n",
      "Requirement already satisfied: matplotlib in d:\\python\\python311\\lib\\site-packages (from stable-baselines3) (3.7.1)\n",
      "Requirement already satisfied: filelock in d:\\python\\python311\\lib\\site-packages (from torch>=1.8.1->stable-baselines3) (3.11.0)\n",
      "Requirement already satisfied: typing-extensions in d:\\python\\python311\\lib\\site-packages (from torch>=1.8.1->stable-baselines3) (4.5.0)\n",
      "Requirement already satisfied: sympy in d:\\python\\python311\\lib\\site-packages (from torch>=1.8.1->stable-baselines3) (1.11.1)\n",
      "Requirement already satisfied: networkx in d:\\python\\python311\\lib\\site-packages (from torch>=1.8.1->stable-baselines3) (3.0)\n",
      "Requirement already satisfied: jinja2 in d:\\python\\python311\\lib\\site-packages (from torch>=1.8.1->stable-baselines3) (3.1.2)\n",
      "Requirement already satisfied: contourpy>=1.0.1 in d:\\python\\python311\\lib\\site-packages (from matplotlib->stable-baselines3) (1.0.7)\n",
      "Requirement already satisfied: cycler>=0.10 in d:\\python\\python311\\lib\\site-packages (from matplotlib->stable-baselines3) (0.11.0)\n",
      "Requirement already satisfied: fonttools>=4.22.0 in d:\\python\\python311\\lib\\site-packages (from matplotlib->stable-baselines3) (4.39.2)\n",
      "Requirement already satisfied: kiwisolver>=1.0.1 in d:\\python\\python311\\lib\\site-packages (from matplotlib->stable-baselines3) (1.4.4)\n",
      "Requirement already satisfied: packaging>=20.0 in d:\\python\\python311\\lib\\site-packages (from matplotlib->stable-baselines3) (23.0)\n",
      "Requirement already satisfied: pillow>=6.2.0 in d:\\python\\python311\\lib\\site-packages (from matplotlib->stable-baselines3) (9.4.0)\n",
      "Requirement already satisfied: pyparsing>=2.3.1 in d:\\python\\python311\\lib\\site-packages (from matplotlib->stable-baselines3) (3.0.9)\n",
      "Requirement already satisfied: python-dateutil>=2.7 in d:\\python\\python311\\lib\\site-packages (from matplotlib->stable-baselines3) (2.8.2)\n",
      "Requirement already satisfied: pytz>=2020.1 in d:\\python\\python311\\lib\\site-packages (from pandas->stable-baselines3) (2023.3)\n",
      "Requirement already satisfied: six>=1.5 in d:\\python\\python311\\lib\\site-packages (from python-dateutil>=2.7->matplotlib->stable-baselines3) (1.16.0)\n",
      "Requirement already satisfied: MarkupSafe>=2.0 in d:\\python\\python311\\lib\\site-packages (from jinja2->torch>=1.8.1->stable-baselines3) (2.1.2)\n",
      "Requirement already satisfied: mpmath>=0.19 in d:\\python\\python311\\lib\\site-packages (from sympy->torch>=1.8.1->stable-baselines3) (1.3.0)\n"
     ]
    }
   ],
   "source": [
    "import torch as th\n",
    "import torch.nn as nn\n",
    "\n",
    "!pip install \"stable-baselines3\"\n",
    "from stable_baselines3 import PPO \n",
    "from stable_baselines3.common.torch_layers import BaseFeaturesExtractor\n",
    "\n",
    "# Neural network for predicting action values\n",
    "class CustomCNN(BaseFeaturesExtractor):\n",
    "    \n",
    "    def __init__(self, observation_space: gym.spaces.Box, features_dim: int=128):\n",
    "        super(CustomCNN, self).__init__(observation_space, features_dim)\n",
    "        # CxHxW images (channels first)\n",
    "        n_input_channels = observation_space.shape[0]\n",
    "        self.cnn = nn.Sequential(\n",
    "            nn.Conv2d(n_input_channels, 32, kernel_size=3, stride=1, padding=0),\n",
    "            nn.ReLU(),\n",
    "            nn.Conv2d(32, 64, kernel_size=3, stride=1, padding=0),\n",
    "            nn.ReLU(),\n",
    "            nn.Flatten(),\n",
    "        )\n",
    "\n",
    "        # Compute shape by doing one forward pass\n",
    "        with th.no_grad():\n",
    "            n_flatten = self.cnn(\n",
    "                th.as_tensor(observation_space.sample()[None]).float()\n",
    "            ).shape[1]\n",
    "\n",
    "        self.linear = nn.Sequential(nn.Linear(n_flatten, features_dim), nn.ReLU())\n",
    "\n",
    "    def forward(self, observations: th.Tensor) -> th.Tensor:\n",
    "        return self.linear(self.cnn(observations))\n",
    "\n",
    "policy_kwargs = dict(\n",
    "    features_extractor_class=CustomCNN,\n",
    ")\n",
    "        \n",
    "# Initialize agent\n",
    "model = PPO(\"CnnPolicy\", env, policy_kwargs=policy_kwargs, verbose=0)"
   ]
  },
  {
   "cell_type": "code",
   "execution_count": null,
   "id": "11b0f9be",
   "metadata": {},
   "outputs": [],
   "source": [
    "model.learn(total_timesteps=60000,log_interval=0)"
   ]
  },
  {
   "cell_type": "code",
   "execution_count": null,
   "id": "83a9fbad",
   "metadata": {},
   "outputs": [],
   "source": [
    "def agent1(obs, config):\n",
    "    # Use the best model to select a column\n",
    "    col, _ = model.predict(np.array(obs['board']).reshape(1, 6,7))\n",
    "    # Check if selected column is valid\n",
    "    is_valid = (obs['board'][int(col)] == 0)\n",
    "    # If not valid, select random move. \n",
    "    if is_valid:\n",
    "        return int(col)\n",
    "    else:\n",
    "        return random.choice([col for col in range(config.columns) if obs.board[int(col)] == 0])"
   ]
  },
  {
   "cell_type": "code",
   "execution_count": null,
   "id": "05d0eff2",
   "metadata": {},
   "outputs": [],
   "source": []
  }
 ],
 "metadata": {
  "kernelspec": {
   "display_name": "Python 3 (ipykernel)",
   "language": "python",
   "name": "python3"
  },
  "language_info": {
   "codemirror_mode": {
    "name": "ipython",
    "version": 3
   },
   "file_extension": ".py",
   "mimetype": "text/x-python",
   "name": "python",
   "nbconvert_exporter": "python",
   "pygments_lexer": "ipython3",
   "version": "3.11.3"
  }
 },
 "nbformat": 4,
 "nbformat_minor": 5
}
