{
 "cells": [
  {
   "cell_type": "code",
   "execution_count": 1,
   "id": "c6d32f2d-126e-4c7e-82a4-3c3431ea74a7",
   "metadata": {},
   "outputs": [],
   "source": [
    "from torchvision.datasets import FashionMNIST\n",
    "from torchvision.transforms import transforms\n",
    "from torch.utils.data import DataLoader\n",
    "import matplotlib.pyplot as plt\n",
    "import torch"
   ]
  },
  {
   "cell_type": "code",
   "execution_count": 2,
   "id": "341ca559-a31f-4a13-9b0b-9f213d69bdc9",
   "metadata": {},
   "outputs": [
    {
     "name": "stderr",
     "output_type": "stream",
     "text": [
      "D:\\Python\\Python39\\lib\\site-packages\\torchvision\\datasets\\mnist.py:498: UserWarning: The given NumPy array is not writeable, and PyTorch does not support non-writeable tensors. This means you can write to the underlying (supposedly non-writeable) NumPy array using the tensor. You may want to copy the array to protect its data or make it writeable before converting it to a tensor. This type of warning will be suppressed for the rest of this program. (Triggered internally at  ..\\torch\\csrc\\utils\\tensor_numpy.cpp:180.)\n",
      "  return torch.from_numpy(parsed.astype(m[2], copy=False)).view(*s)\n"
     ]
    }
   ],
   "source": [
    "device = torch.device(\"cuda\" if torch.cuda.is_available() else \"cpu\")\n",
    "# 从\"./dataset/\"目录加载FashionMNIST数据集，如果没有则会自动下载。\n",
    "train_data = FashionMNIST(root='./dataset/', train=True, transform=transforms.ToTensor(), download=True)\n",
    "test_data = FashionMNIST(root='./dataset/', train=False, transform=transforms.ToTensor(), download=True)\n",
    "train_batch = DataLoader(dataset=train_data, batch_size=256,  shuffle=True,  drop_last=False)"
   ]
  },
  {
   "cell_type": "code",
   "execution_count": 3,
   "id": "955e33f1-ec1f-4c03-946b-2b593abeb79a",
   "metadata": {},
   "outputs": [],
   "source": [
    "class Model(torch.nn.Module):\n",
    "    def __init__(self,in_features,out_features):\n",
    "        super().__init__()\n",
    "        self.bn = torch.nn.BatchNorm2d(1)\n",
    "        self.conv1 = torch.nn.Conv2d(in_channels=1, out_channels=8, kernel_size=3)\n",
    "        self.pool1 = torch.nn.MaxPool2d(2) # 13\n",
    "        self.conv2 = torch.nn.Conv2d(in_channels=8, out_channels=16, kernel_size=3) \n",
    "        self.pool2 = torch.nn.MaxPool2d(2) # 5\n",
    "        self.linear1 = torch.nn.Linear(16*5*5, 128)\n",
    "        self.output = torch.nn.Linear(128, out_features, bias=False)\n",
    "        \n",
    "    def forward(self,x):\n",
    "        x = self.bn(x)\n",
    "        x = F.relu(self.conv1(x))\n",
    "        x = self.pool1(x)\n",
    "        x = F.relu(self.conv2(x))\n",
    "        x = self.pool2(x)\n",
    "        x = torch.relu(x.view(x.shape[0], -1))\n",
    "        x = torch.relu(self.linear1(x))\n",
    "        x = self.output(x)\n",
    "        x = F.log_softmax(x,dim=1)\n",
    "        return x"
   ]
  },
  {
   "cell_type": "code",
   "execution_count": 4,
   "id": "71bac26c-3bfc-46af-91cd-5ab4976d146d",
   "metadata": {},
   "outputs": [],
   "source": [
    "from torch.optim import Adam\n",
    "from torch.nn import functional as F\n",
    "\n",
    "# 设置随机种子，确保实验可重复性\n",
    "torch.random.manual_seed(420)\n",
    "\n",
    "# 初始化一个模型，输入图片通道数为1，输出特征为10\n",
    "model = Model(in_features=1, out_features=10).to(device)\n",
    "# 使用负对数似然损失函数\n",
    "criterion = torch.nn.NLLLoss()\n",
    "# 初始化Adam优化器，设定学习率为0.005\n",
    "opt = Adam(model.parameters(), lr=0.005)\n"
   ]
  },
  {
   "cell_type": "code",
   "execution_count": 5,
   "id": "edd4757b-9e77-4f01-a190-eec7fcafdca1",
   "metadata": {},
   "outputs": [
    {
     "name": "stderr",
     "output_type": "stream",
     "text": [
      "D:\\Python\\Python39\\lib\\site-packages\\torch\\nn\\functional.py:718: UserWarning: Named tensors and all their associated APIs are an experimental feature and subject to change. Please do not use them for anything important until they are released as stable. (Triggered internally at  ..\\c10/core/TensorImpl.h:1156.)\n",
      "  return torch.max_pool2d(input, kernel_size, stride, padding, dilation, ceil_mode)\n"
     ]
    },
    {
     "name": "stdout",
     "output_type": "stream",
     "text": [
      "loss: 0.4118366539478302 accuracy: 83.33333587646484\n",
      "loss: 0.2345355600118637 accuracy: 91.66667175292969\n",
      "loss: 0.20766907930374146 accuracy: 92.70833587646484\n",
      "loss: 0.265121728181839 accuracy: 90.625\n",
      "loss: 0.18941356241703033 accuracy: 91.66667175292969\n",
      "loss: 0.1682918667793274 accuracy: 94.79167175292969\n",
      "loss: 0.17323146760463715 accuracy: 93.75\n",
      "loss: 0.14355356991291046 accuracy: 92.70833587646484\n",
      "loss: 0.3490566313266754 accuracy: 87.5\n"
     ]
    }
   ],
   "source": [
    "# 进行9次迭代\n",
    "for _ in range(9):\n",
    "    # 遍历数据批次\n",
    "    for batch in train_batch:\n",
    "        # 将输入数据X调整形状并输入到模型\n",
    "        X = batch[0].to(device)\n",
    "        # y为真实标签\n",
    "        y = batch[1].to(device)\n",
    "\n",
    "        # 前向传播，获取模型输出\n",
    "        sigma = model.forward(X)\n",
    "        # 计算损失\n",
    "        loss = criterion(sigma, y)\n",
    "        # 计算预测的标签\n",
    "        y_hat = torch.max(sigma, dim=1)[1]\n",
    "        # 计算预测正确的数量\n",
    "        correct_count = torch.sum(y_hat == y)\n",
    "        # 计算准确率\n",
    "        accuracy = correct_count / len(y) * 100\n",
    "        # 反向传播，计算梯度\n",
    "        loss.backward()\n",
    "        # 更新模型参数\n",
    "        opt.step()\n",
    "        # 清除之前的梯度\n",
    "        model.zero_grad()\n",
    "    # 打印当前批次的损失和准确率\n",
    "    print('loss:', loss.item(), 'accuracy:', accuracy.item())"
   ]
  },
  {
   "cell_type": "code",
   "execution_count": 6,
   "id": "2f322ea2-8e26-4841-b3c5-6690ffe8f88a",
   "metadata": {},
   "outputs": [
    {
     "name": "stdout",
     "output_type": "stream",
     "text": [
      "accuracy: 89.8499984741211\n"
     ]
    },
    {
     "name": "stderr",
     "output_type": "stream",
     "text": [
      "C:\\Users\\Administrator\\AppData\\Local\\Temp\\ipykernel_7188\\3480106166.py:3: UserWarning: To copy construct from a tensor, it is recommended to use sourceTensor.clone().detach() or sourceTensor.clone().detach().requires_grad_(True), rather than torch.tensor(sourceTensor).\n",
      "  sigma = model.forward(torch.tensor(test_X,dtype=torch.float32))\n"
     ]
    }
   ],
   "source": [
    "test_X = test_data.data.unsqueeze(dim=1).to(device)\n",
    "test_y = test_data.targets.to(device)\n",
    "sigma = model.forward(torch.tensor(test_X,dtype=torch.float32))\n",
    "y_hat = torch.max(sigma, dim=1)[1]\n",
    "correct_count = torch.sum(y_hat == test_y)\n",
    "accuracy = correct_count / 10000 * 100\n",
    "print('accuracy:', accuracy.item())"
   ]
  },
  {
   "cell_type": "code",
   "execution_count": 7,
   "id": "6fdd4065-d7a3-46b6-a3f1-43dfbaae4074",
   "metadata": {},
   "outputs": [
    {
     "data": {
      "text/plain": [
       "torch.Size([10000, 1, 28, 28])"
      ]
     },
     "execution_count": 7,
     "metadata": {},
     "output_type": "execute_result"
    }
   ],
   "source": [
    "test_data.data.unsqueeze(dim=1).shape"
   ]
  },
  {
   "cell_type": "code",
   "execution_count": null,
   "id": "e2132dca-acdd-4a3a-af07-f892ad68500f",
   "metadata": {},
   "outputs": [],
   "source": []
  }
 ],
 "metadata": {
  "kernelspec": {
   "display_name": "Python 3 (ipykernel)",
   "language": "python",
   "name": "python3"
  },
  "language_info": {
   "codemirror_mode": {
    "name": "ipython",
    "version": 3
   },
   "file_extension": ".py",
   "mimetype": "text/x-python",
   "name": "python",
   "nbconvert_exporter": "python",
   "pygments_lexer": "ipython3",
   "version": "3.9.8"
  }
 },
 "nbformat": 4,
 "nbformat_minor": 5
}
