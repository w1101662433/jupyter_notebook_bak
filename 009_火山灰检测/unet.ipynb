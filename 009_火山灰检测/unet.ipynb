{
 "cells": [
  {
   "cell_type": "code",
   "execution_count": 3,
   "metadata": {
    "execution": {
     "iopub.execute_input": "2023-04-22T06:05:11.154895Z",
     "iopub.status.busy": "2023-04-22T06:05:11.154280Z",
     "iopub.status.idle": "2023-04-22T06:05:11.163507Z",
     "shell.execute_reply": "2023-04-22T06:05:11.162023Z",
     "shell.execute_reply.started": "2023-04-22T06:05:11.154848Z"
    }
   },
   "outputs": [],
   "source": [
    "import keras\n",
    "import os,sys\n",
    "import numpy as np\n",
    "import pandas as pd\n",
    "import random\n",
    "# os.environ[\"CUDA_VISIBLE_DEVICES\"]=\"0\"\n",
    "from sklearn.model_selection import train_test_split\n",
    "from keras.utils import to_categorical\n",
    "from keras.models import Sequential\n",
    "from keras.layers.convolutional import Conv2D, MaxPooling2D\n",
    "from keras.layers import BatchNormalization, Dense, Dropout, Flatten\n",
    "from keras.preprocessing.image import ImageDataGenerator\n",
    "from keras.callbacks import LearningRateScheduler\n",
    "import PIL.Image as Image\n",
    "import matplotlib.pyplot as plt\n",
    "from tqdm import tqdm\n",
    "Image.MAX_IMAGE_PIXELS = None"
   ]
  },
  {
   "cell_type": "code",
   "execution_count": 22,
   "metadata": {
    "execution": {
     "iopub.execute_input": "2023-04-22T06:05:11.166991Z",
     "iopub.status.busy": "2023-04-22T06:05:11.166018Z",
     "iopub.status.idle": "2023-04-22T06:05:11.175223Z",
     "shell.execute_reply": "2023-04-22T06:05:11.173992Z",
     "shell.execute_reply.started": "2023-04-22T06:05:11.166925Z"
    }
   },
   "outputs": [],
   "source": [
    "Image."
   ]
  },
  {
   "cell_type": "code",
   "execution_count": 23,
   "metadata": {
    "execution": {
     "iopub.execute_input": "2023-04-22T06:05:11.178089Z",
     "iopub.status.busy": "2023-04-22T06:05:11.177409Z",
     "iopub.status.idle": "2023-04-22T06:05:11.193610Z",
     "shell.execute_reply": "2023-04-22T06:05:11.192445Z",
     "shell.execute_reply.started": "2023-04-22T06:05:11.178052Z"
    }
   },
   "outputs": [],
   "source": [
    "def resize_img(input_dir):\n",
    "    im = Image.open(input_dir)\n",
    "    (x, y) = im.size  # 读取图片尺寸（像素）\n",
    "    x_1 = x//scale  # 定义缩小后的标准宽度\n",
    "    y_1 = int(y * x_1 / x)  # 计算缩小后的高度\n",
    "    out = im.resize((x_1, y_1))  # 改变尺寸，保持图片高品质\n",
    "    #判断图片的通道模式，若图片在RGBA模式下，需先将其转变为RGB模式\n",
    "    if out.mode=='RGBA':\n",
    "        #转化为rgb格式\n",
    "        out=out.convert('RGB')\n",
    "        #最后保存为jpg格式的图片，这里因为图片本身为jpg所以后缀不更改\n",
    "    return out\n",
    "\n",
    "def save_mini_img():\n",
    "    for i_ in range(start_page, end_page, step):\n",
    "        i_ = str(i_) if i_ >= 10 else '0' + str(i_)\n",
    "        for k_ in ['test','train']:\n",
    "            j_li = ['a','b'] if k_ == 'test' else train_abc\n",
    "            for j_ in j_li:\n",
    "                _PREFIX = f'/kaggle/input/vesuvius-challenge-ink-detection/{k_}/{j_}/surface_volume/'\n",
    "                out = resize_img(_PREFIX + f\"{i_}.tif\")\n",
    "                save_dir = f'{k_}/{j_}/'\n",
    "                if not os.path.exists(save_dir):\n",
    "                    os.makedirs(save_dir)\n",
    "                out.save(save_dir + f'{k_}_{j_}_{i_}.tif')\n",
    "                \n",
    "def save_mini_img_2():\n",
    "    for k_ in ['test','train']:\n",
    "        print('k_',k_)\n",
    "        j_li = ['a','b'] if k_ == 'test' else train_abc\n",
    "        for j_ in j_li:\n",
    "            _PREFIX = f'/kaggle/input/vesuvius-challenge-ink-detection/{k_}/{j_}/'\n",
    "            out = resize_img(_PREFIX + f\"mask.png\")\n",
    "            save_dir = f'{k_}/{j_}/'\n",
    "            if not os.path.exists(save_dir):\n",
    "                os.makedirs(save_dir)\n",
    "            out.save(save_dir + f'{k_}_{j_}_mask.png')\n",
    "        \n",
    "        if k_ == 'train':\n",
    "            for j_ in j_li:\n",
    "                _PREFIX = f'/kaggle/input/vesuvius-challenge-ink-detection/{k_}/{j_}/'\n",
    "                print(_PREFIX + f\"inklabels.png\")\n",
    "                out = resize_img(_PREFIX + f\"inklabels.png\")\n",
    "                save_dir = f'{k_}/{j_}/'\n",
    "                if not os.path.exists(save_dir):\n",
    "                    os.makedirs(save_dir)\n",
    "                out.save(save_dir + f'{k_}_{j_}_inklabels.png')"
   ]
  },
  {
   "cell_type": "code",
   "execution_count": 13,
   "metadata": {
    "execution": {
     "iopub.execute_input": "2023-04-22T06:05:11.197503Z",
     "iopub.status.busy": "2023-04-22T06:05:11.197027Z",
     "iopub.status.idle": "2023-04-22T06:06:30.976826Z",
     "shell.execute_reply": "2023-04-22T06:06:30.975829Z",
     "shell.execute_reply.started": "2023-04-22T06:05:11.197463Z"
    }
   },
   "outputs": [],
   "source": [
    "# save_mini_img()\n",
    "# save_mini_img_2()\n",
    "# base_dir = '/kaggle/working/'\n",
    "base_dir = 'dataset/'"
   ]
  },
  {
   "cell_type": "code",
   "execution_count": 5,
   "metadata": {},
   "outputs": [],
   "source": [
    "from keras import layers\n",
    "\n",
    "def VGG16(img_input):\n",
    "    # Block 1\n",
    "    x = layers.Conv2D(64, (3, 3),\n",
    "                      activation='relu',\n",
    "                      padding='same',\n",
    "                      name='block1_conv1')(img_input)\n",
    "    x = layers.Conv2D(64, (3, 3),\n",
    "                      activation='relu',\n",
    "                      padding='same',\n",
    "                      name='block1_conv2')(x)\n",
    "    feat1 = x\n",
    "    x = layers.MaxPooling2D((2, 2), strides=(2, 2), name='block1_pool')(x)\n",
    "\n",
    "    # Block 2\n",
    "    x = layers.Conv2D(128, (3, 3),\n",
    "                      activation='relu',\n",
    "                      padding='same',\n",
    "                      name='block2_conv1')(x)\n",
    "    x = layers.Conv2D(128, (3, 3),\n",
    "                      activation='relu',\n",
    "                      padding='same',\n",
    "                      name='block2_conv2')(x)\n",
    "    feat2 = x\n",
    "    x = layers.MaxPooling2D((2, 2), strides=(2, 2), name='block2_pool')(x)\n",
    "\n",
    "\n",
    "    # Block 3\n",
    "    x = layers.Conv2D(256, (3, 3),\n",
    "                      activation='relu',\n",
    "                      padding='same',\n",
    "                      name='block3_conv1')(x)\n",
    "    x = layers.Conv2D(256, (3, 3),\n",
    "                      activation='relu',\n",
    "                      padding='same',\n",
    "                      name='block3_conv2')(x)\n",
    "    x = layers.Conv2D(256, (3, 3),\n",
    "                      activation='relu',\n",
    "                      padding='same',\n",
    "                      name='block3_conv3')(x)\n",
    "    feat3 = x\n",
    "    x = layers.MaxPooling2D((2, 2), strides=(2, 2), name='block3_pool')(x)\n",
    "\n",
    "    # Block 4\n",
    "    x = layers.Conv2D(512, (3, 3),\n",
    "                      activation='relu',\n",
    "                      padding='same',\n",
    "                      name='block4_conv1')(x)\n",
    "    x = layers.Conv2D(512, (3, 3),\n",
    "                      activation='relu',\n",
    "                      padding='same',\n",
    "                      name='block4_conv2')(x)\n",
    "    x = layers.Conv2D(512, (3, 3),\n",
    "                      activation='relu',\n",
    "                      padding='same',\n",
    "                      name='block4_conv3')(x)\n",
    "    feat4 = x\n",
    "\n",
    "    x = layers.MaxPooling2D((2, 2), strides=(2, 2), name='block4_pool')(x)\n",
    "\n",
    "    # Block 5\n",
    "    x = layers.Conv2D(512, (3, 3),\n",
    "                      activation='relu',\n",
    "                      padding='same',\n",
    "                      name='block5_conv1')(x)\n",
    "    x = layers.Conv2D(512, (3, 3),\n",
    "                      activation='relu',\n",
    "                      padding='same',\n",
    "                      name='block5_conv2')(x)\n",
    "    x = layers.Conv2D(512, (3, 3),\n",
    "                      activation='relu',\n",
    "                      padding='same',\n",
    "                      name='block5_conv3')(x)\n",
    "    feat5 = x\n",
    "    return feat1, feat2, feat3, feat4, feat5\n"
   ]
  },
  {
   "cell_type": "code",
   "execution_count": 2,
   "metadata": {
    "execution": {
     "iopub.status.busy": "2023-04-22T06:17:21.792359Z",
     "iopub.status.idle": "2023-04-22T06:17:21.792741Z",
     "shell.execute_reply": "2023-04-22T06:17:21.792580Z",
     "shell.execute_reply.started": "2023-04-22T06:17:21.792561Z"
    }
   },
   "outputs": [],
   "source": [
    "import numpy as np\n",
    "from keras.models import *\n",
    "from keras.layers import *\n",
    "\n",
    "\n",
    "def Unet(input_shape=(256,256,3), num_classes=21):\n",
    "    inputs = Input(input_shape)\n",
    "    feat1, feat2, feat3, feat4, feat5 = VGG16(inputs) \n",
    "      \n",
    "    channels = [64, 128, 256, 512]\n",
    "\n",
    "    P5_up = UpSampling2D(size=(2, 2))(feat5)\n",
    "    P4 = Concatenate(axis=3)([feat4, P5_up])\n",
    "    P4 = Conv2D(channels[3], 3, activation='relu', padding='same', kernel_initializer='he_normal')(P4)\n",
    "    P4 = Conv2D(channels[3], 3, activation='relu', padding='same', kernel_initializer='he_normal')(P4)\n",
    "\n",
    "    P4_up = UpSampling2D(size=(2, 2))(P4)\n",
    "    P3 = Concatenate(axis=3)([feat3, P4_up])\n",
    "    P3 = Conv2D(channels[2], 3, activation='relu', padding='same', kernel_initializer='he_normal')(P3)\n",
    "    P3 = Conv2D(channels[2], 3, activation='relu', padding='same', kernel_initializer='he_normal')(P3)\n",
    "\n",
    "    P3_up = UpSampling2D(size=(2, 2))(P3)\n",
    "    P2 = Concatenate(axis=3)([feat2, P3_up])\n",
    "    P2 = Conv2D(channels[1], 3, activation='relu', padding='same', kernel_initializer='he_normal')(P2)\n",
    "    P2 = Conv2D(channels[1], 3, activation='relu', padding='same', kernel_initializer='he_normal')(P2)\n",
    "\n",
    "    P2_up = UpSampling2D(size=(2, 2))(P2)\n",
    "    P1 = Concatenate(axis=3)([feat1, P2_up])\n",
    "    P1 = Conv2D(channels[0], 3, activation='relu', padding='same', kernel_initializer='he_normal')(P1)\n",
    "    P1 = Conv2D(channels[0], 3, activation='relu', padding='same', kernel_initializer='he_normal')(P1)\n",
    "\n",
    "    P1 = Conv2D(num_classes, 1, activation=\"softmax\")(P1)\n",
    "\n",
    "    model = Model(inputs=inputs, outputs=P1)\n",
    "    return model\n"
   ]
  },
  {
   "cell_type": "code",
   "execution_count": null,
   "metadata": {},
   "outputs": [],
   "source": []
  },
  {
   "cell_type": "code",
   "execution_count": null,
   "metadata": {},
   "outputs": [],
   "source": []
  },
  {
   "cell_type": "code",
   "execution_count": null,
   "metadata": {
    "execution": {
     "iopub.status.busy": "2023-04-22T06:17:21.804804Z",
     "iopub.status.idle": "2023-04-22T06:17:21.805660Z",
     "shell.execute_reply": "2023-04-22T06:17:21.805491Z",
     "shell.execute_reply.started": "2023-04-22T06:17:21.805464Z"
    }
   },
   "outputs": [],
   "source": [
    "subm = ''\n",
    "for c_ in ['a','b']:\n",
    "    _tmp = pre_img_to_submission(pre_imgs[c_])\n",
    "    subm = subm + f'{c_},' + _tmp + '\\n'\n",
    "subm = 'Id,Predicted\\n' + subm"
   ]
  },
  {
   "cell_type": "code",
   "execution_count": null,
   "metadata": {
    "execution": {
     "iopub.status.busy": "2023-04-22T06:17:21.807415Z",
     "iopub.status.idle": "2023-04-22T06:17:21.808644Z",
     "shell.execute_reply": "2023-04-22T06:17:21.808362Z",
     "shell.execute_reply.started": "2023-04-22T06:17:21.808334Z"
    }
   },
   "outputs": [],
   "source": [
    "print(subm.strip(), file=open('submission.csv', 'w'))"
   ]
  },
  {
   "cell_type": "code",
   "execution_count": 6,
   "metadata": {},
   "outputs": [],
   "source": [
    "import albumentations as A\n",
    "from albumentations.pytorch import ToTensorV2"
   ]
  },
  {
   "cell_type": "code",
   "execution_count": 9,
   "metadata": {},
   "outputs": [],
   "source": [
    "size = 224\n",
    "in_chans = 6\n",
    "train_aug_list = [\n",
    "        # A.RandomResizedCrop(\n",
    "        #     size, size, scale=(0.85, 1.0)),\n",
    "        A.Resize(size, size),\n",
    "        A.HorizontalFlip(p=0.5),\n",
    "        A.VerticalFlip(p=0.5),\n",
    "        A.RandomBrightnessContrast(p=0.75),\n",
    "        A.ShiftScaleRotate(p=0.75),\n",
    "        A.OneOf([\n",
    "                A.GaussNoise(var_limit=[10, 50]),\n",
    "                A.GaussianBlur(),\n",
    "                A.MotionBlur(),\n",
    "                ], p=0.4),\n",
    "        A.GridDistortion(num_steps=5, distort_limit=0.3, p=0.5),\n",
    "        A.CoarseDropout(max_holes=1, max_width=int(size * 0.3), max_height=int(size * 0.3), \n",
    "                        mask_fill_value=0, p=0.5),\n",
    "        # A.Cutout(max_h_size=int(size * 0.6),\n",
    "        #          max_w_size=int(size * 0.6), num_holes=1, p=1.0),\n",
    "        A.Normalize(\n",
    "            mean= [0] * in_chans,\n",
    "            std= [1] * in_chans\n",
    "        ),\n",
    "        ToTensorV2(transpose_mask=True),\n",
    "    ]\n",
    "\n",
    "valid_aug_list = [\n",
    "    A.Resize(size, size),\n",
    "    A.Normalize(\n",
    "        mean= [0] * in_chans,\n",
    "        std= [1] * in_chans\n",
    "    ),\n",
    "    ToTensorV2(transpose_mask=True),\n",
    "]"
   ]
  },
  {
   "cell_type": "code",
   "execution_count": 18,
   "metadata": {},
   "outputs": [],
   "source": [
    "transform = A.Compose(train_aug_list)"
   ]
  },
  {
   "cell_type": "code",
   "execution_count": 19,
   "metadata": {},
   "outputs": [
    {
     "ename": "NameError",
     "evalue": "name 'np' is not defined",
     "output_type": "error",
     "traceback": [
      "\u001b[1;31m---------------------------------------------------------------------------\u001b[0m",
      "\u001b[1;31mNameError\u001b[0m                                 Traceback (most recent call last)",
      "Cell \u001b[1;32mIn[19], line 2\u001b[0m\n\u001b[0;32m      1\u001b[0m image \u001b[38;5;241m=\u001b[39m base_dir\u001b[38;5;241m+\u001b[39m\u001b[38;5;124m'\u001b[39m\u001b[38;5;124mtrain/1/train_1_27.tif\u001b[39m\u001b[38;5;124m'\u001b[39m\n\u001b[1;32m----> 2\u001b[0m img_trans \u001b[38;5;241m=\u001b[39m transform(image\u001b[38;5;241m=\u001b[39m\u001b[43mnp\u001b[49m\u001b[38;5;241m.\u001b[39marray(image))  \u001b[38;5;66;03m# image为图像地址'xxx.jpg'\u001b[39;00m\n",
      "\u001b[1;31mNameError\u001b[0m: name 'np' is not defined"
     ]
    }
   ],
   "source": [
    "image = base_dir+'train/1/train_1_27.tif'\n",
    "img_trans = transform(image=np.array(image))  # image为图像地址'xxx.jpg'"
   ]
  },
  {
   "cell_type": "code",
   "execution_count": null,
   "metadata": {},
   "outputs": [],
   "source": []
  }
 ],
 "metadata": {
  "kernelspec": {
   "display_name": "Python 3 (ipykernel)",
   "language": "python",
   "name": "python3"
  },
  "language_info": {
   "codemirror_mode": {
    "name": "ipython",
    "version": 3
   },
   "file_extension": ".py",
   "mimetype": "text/x-python",
   "name": "python",
   "nbconvert_exporter": "python",
   "pygments_lexer": "ipython3",
   "version": "3.11.3"
  }
 },
 "nbformat": 4,
 "nbformat_minor": 4
}
