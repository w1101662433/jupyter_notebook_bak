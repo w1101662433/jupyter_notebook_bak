{
 "cells": [
  {
   "cell_type": "code",
   "execution_count": 4,
   "id": "044e0892-8069-4a7e-99f4-59a691389760",
   "metadata": {},
   "outputs": [],
   "source": [
    "from mtcnn import MTCNN\n",
    "import cv2\n",
    "import matplotlib.pyplot as plt\n",
    "import numpy as np\n",
    "# 初始化MTCNN检测器\n",
    "detector = MTCNN()"
   ]
  },
  {
   "cell_type": "code",
   "execution_count": 2,
   "id": "74e399b3-a68d-44ed-b77e-3b5e9254d724",
   "metadata": {},
   "outputs": [
    {
     "name": "stdout",
     "output_type": "stream",
     "text": [
      "\u001b[1m1/1\u001b[0m \u001b[32m━━━━━━━━━━━━━━━━━━━━\u001b[0m\u001b[37m\u001b[0m \u001b[1m0s\u001b[0m 79ms/step\n",
      "\u001b[1m1/1\u001b[0m \u001b[32m━━━━━━━━━━━━━━━━━━━━\u001b[0m\u001b[37m\u001b[0m \u001b[1m0s\u001b[0m 77ms/step\n",
      "\u001b[1m1/1\u001b[0m \u001b[32m━━━━━━━━━━━━━━━━━━━━\u001b[0m\u001b[37m\u001b[0m \u001b[1m0s\u001b[0m 19ms/step\n",
      "\u001b[1m1/1\u001b[0m \u001b[32m━━━━━━━━━━━━━━━━━━━━\u001b[0m\u001b[37m\u001b[0m \u001b[1m0s\u001b[0m 11ms/step\n",
      "\u001b[1m1/1\u001b[0m \u001b[32m━━━━━━━━━━━━━━━━━━━━\u001b[0m\u001b[37m\u001b[0m \u001b[1m0s\u001b[0m 20ms/step\n",
      "\u001b[1m1/1\u001b[0m \u001b[32m━━━━━━━━━━━━━━━━━━━━\u001b[0m\u001b[37m\u001b[0m \u001b[1m0s\u001b[0m 20ms/step\n",
      "\u001b[1m1/1\u001b[0m \u001b[32m━━━━━━━━━━━━━━━━━━━━\u001b[0m\u001b[37m\u001b[0m \u001b[1m0s\u001b[0m 25ms/step\n",
      "\u001b[1m1/1\u001b[0m \u001b[32m━━━━━━━━━━━━━━━━━━━━\u001b[0m\u001b[37m\u001b[0m \u001b[1m0s\u001b[0m 20ms/step\n",
      "\u001b[1m1/1\u001b[0m \u001b[32m━━━━━━━━━━━━━━━━━━━━\u001b[0m\u001b[37m\u001b[0m \u001b[1m0s\u001b[0m 11ms/step\n",
      "\u001b[1m2/2\u001b[0m \u001b[32m━━━━━━━━━━━━━━━━━━━━\u001b[0m\u001b[37m\u001b[0m \u001b[1m0s\u001b[0m 68ms/step\n",
      "\u001b[1m1/1\u001b[0m \u001b[32m━━━━━━━━━━━━━━━━━━━━\u001b[0m\u001b[37m\u001b[0m \u001b[1m0s\u001b[0m 94ms/step\n"
     ]
    }
   ],
   "source": [
    "# 读取图片\n",
    "img_path = r\"C:\\Users\\Administrator\\Desktop\\40521162814.png\"\n",
    "image = cv2.imread(img_path)\n",
    "\n",
    "# 检测图片中的人脸\n",
    "faces = detector.detect_faces(image)"
   ]
  },
  {
   "cell_type": "code",
   "execution_count": 3,
   "id": "12f80477-0d63-4653-98b7-ba6beff47d13",
   "metadata": {},
   "outputs": [],
   "source": [
    "# 绘制人脸边界框\n",
    "for face in faces:\n",
    "    # 获取人脸边界框的坐标\n",
    "    x, y, width, height = face['box']\n",
    "\n",
    "    cv2.rectangle(image, (x, y), (x+width, y+height), (0, 155, 255), 2)\n",
    "    \n",
    "    # 获取人脸的关键点\n",
    "    keypoints = face['keypoints']\n",
    "    cv2.circle(image, keypoints['left_eye'], 2, (0, 155, 255), 2)\n",
    "    cv2.circle(image, keypoints['right_eye'], 2, (0, 155, 255), 2)\n",
    "    cv2.circle(image, keypoints['nose'], 2, (0, 155, 255), 2)\n",
    "    cv2.circle(image, keypoints['mouth_left'], 2, (0, 155, 255), 2)\n",
    "    cv2.circle(image, keypoints['mouth_right'], 2, (0, 155, 255), 2)\n",
    "\n",
    "# 显示带有人脸边界框和关键点的图片\n",
    "cv2.imshow(\"Faces detected\", image)\n",
    "cv2.waitKey(0)\n",
    "cv2.destroyAllWindows()"
   ]
  },
  {
   "cell_type": "code",
   "execution_count": null,
   "id": "d01b888a-6ee7-485c-b392-9a8544d2b9b4",
   "metadata": {},
   "outputs": [],
   "source": [
    "# 另一种方法"
   ]
  },
  {
   "cell_type": "code",
   "execution_count": 5,
   "id": "cc7467a9-0491-4259-8c83-18792ff3f142",
   "metadata": {},
   "outputs": [],
   "source": [
    "face_cascade = cv2.CascadeClassifier(cv2.data.haarcascades + 'haarcascade_frontalface_default.xml')\n",
    "# 从文件或摄像头捕获图像\n",
    "img_path = r\"D:\\BaiduSyncdisk\\jupyter\\012_人脸识别\\dataset\\明星图片\\冯提莫\\冯提莫_19.jpg\"\n",
    "image = cv2.imdecode(np.fromfile(img_path, dtype=np.uint8), -1)\n",
    "# gray = cv2.cvtColor(image, cv2.COLOR_BGR2GRAY)\n",
    "\n",
    "# 检测图像中的人脸\n",
    "faces = face_cascade.detectMultiScale(image, 1.3, 5)\n",
    "\n",
    "# 在检测到的人脸周围绘制矩形框\n",
    "for (x,y,w,h) in faces:\n",
    "    cv2.rectangle(image,(x,y),(x+w,y+h),(255,0,0),2)\n",
    "\n",
    "cv2.imshow('image', image)\n",
    "cv2.waitKey(0)\n",
    "cv2.destroyAllWindows()"
   ]
  },
  {
   "cell_type": "code",
   "execution_count": null,
   "id": "329966fe-a51d-4c41-b844-1152bf613d1b",
   "metadata": {},
   "outputs": [],
   "source": []
  }
 ],
 "metadata": {
  "kernelspec": {
   "display_name": "Python 3 (ipykernel)",
   "language": "python",
   "name": "python3"
  },
  "language_info": {
   "codemirror_mode": {
    "name": "ipython",
    "version": 3
   },
   "file_extension": ".py",
   "mimetype": "text/x-python",
   "name": "python",
   "nbconvert_exporter": "python",
   "pygments_lexer": "ipython3",
   "version": "3.9.8"
  }
 },
 "nbformat": 4,
 "nbformat_minor": 5
}
