{
 "cells": [
  {
   "cell_type": "code",
   "execution_count": 1,
   "id": "3d76c86b",
   "metadata": {},
   "outputs": [
    {
     "name": "stdout",
     "output_type": "stream",
     "text": [
      "Model: \"sequential\"\n",
      "_________________________________________________________________\n",
      " Layer (type)                Output Shape              Param #   \n",
      "=================================================================\n",
      " flatten (Flatten)           (None, 4)                 0         \n",
      "                                                                 \n",
      " dense (Dense)               (None, 16)                80        \n",
      "                                                                 \n",
      " activation (Activation)     (None, 16)                0         \n",
      "                                                                 \n",
      " dense_1 (Dense)             (None, 16)                272       \n",
      "                                                                 \n",
      " activation_1 (Activation)   (None, 16)                0         \n",
      "                                                                 \n",
      " dense_2 (Dense)             (None, 16)                272       \n",
      "                                                                 \n",
      " activation_2 (Activation)   (None, 16)                0         \n",
      "                                                                 \n",
      " dense_3 (Dense)             (None, 2)                 34        \n",
      "                                                                 \n",
      " activation_3 (Activation)   (None, 2)                 0         \n",
      "                                                                 \n",
      "=================================================================\n",
      "Total params: 658\n",
      "Trainable params: 658\n",
      "Non-trainable params: 0\n",
      "_________________________________________________________________\n",
      "None\n"
     ]
    },
    {
     "name": "stderr",
     "output_type": "stream",
     "text": [
      "D:\\python\\Python311\\Lib\\site-packages\\keras\\optimizers\\legacy\\adam.py:117: UserWarning: The `lr` argument is deprecated, use `learning_rate` instead.\n",
      "  super().__init__(name, **kwargs)\n"
     ]
    },
    {
     "name": "stdout",
     "output_type": "stream",
     "text": [
      "Training for 5000 steps ...\n"
     ]
    },
    {
     "name": "stderr",
     "output_type": "stream",
     "text": [
      "D:\\python\\Python311\\Lib\\site-packages\\keras\\engine\\training_v1.py:2359: UserWarning: `Model.state_updates` will be removed in a future version. This property should not be used in TensorFlow 2.0, as `updates` are applied automatically.\n",
      "  updates=self.state_updates,\n",
      "D:\\python\\Python311\\Lib\\site-packages\\rl\\memory.py:37: UserWarning: Not enough entries to sample without replacement. Consider increasing your warm-up phase to avoid oversampling!\n",
      "  warnings.warn('Not enough entries to sample without replacement. Consider increasing your warm-up phase to avoid oversampling!')\n"
     ]
    },
    {
     "name": "stdout",
     "output_type": "stream",
     "text": [
      "   26/5000: episode: 1, duration: 0.923s, episode steps:  26, steps per second:  28, episode reward: 26.000, mean reward:  1.000 [ 1.000,  1.000], mean action: 0.538 [0.000, 1.000],  loss: 0.482905, mae: 0.512101, mean_q: 0.037935\n"
     ]
    },
    {
     "name": "stderr",
     "output_type": "stream",
     "text": [
      "D:\\python\\Python311\\Lib\\site-packages\\rl\\memory.py:37: UserWarning: Not enough entries to sample without replacement. Consider increasing your warm-up phase to avoid oversampling!\n",
      "  warnings.warn('Not enough entries to sample without replacement. Consider increasing your warm-up phase to avoid oversampling!')\n"
     ]
    },
    {
     "name": "stdout",
     "output_type": "stream",
     "text": [
      "   64/5000: episode: 2, duration: 0.547s, episode steps:  38, steps per second:  69, episode reward: 38.000, mean reward:  1.000 [ 1.000,  1.000], mean action: 0.632 [0.000, 1.000],  loss: 0.401512, mae: 0.496075, mean_q: 0.169696\n",
      "  100/5000: episode: 3, duration: 0.491s, episode steps:  36, steps per second:  73, episode reward: 36.000, mean reward:  1.000 [ 1.000,  1.000], mean action: 0.500 [0.000, 1.000],  loss: 0.261963, mae: 0.504542, mean_q: 0.437751\n",
      "  122/5000: episode: 4, duration: 0.293s, episode steps:  22, steps per second:  75, episode reward: 22.000, mean reward:  1.000 [ 1.000,  1.000], mean action: 0.636 [0.000, 1.000],  loss: 0.131401, mae: 0.539295, mean_q: 0.809380\n",
      "  143/5000: episode: 5, duration: 0.278s, episode steps:  21, steps per second:  75, episode reward: 21.000, mean reward:  1.000 [ 1.000,  1.000], mean action: 0.571 [0.000, 1.000],  loss: 0.066899, mae: 0.644662, mean_q: 1.110636\n",
      "  166/5000: episode: 6, duration: 0.321s, episode steps:  23, steps per second:  72, episode reward: 23.000, mean reward:  1.000 [ 1.000,  1.000], mean action: 0.478 [0.000, 1.000],  loss: 0.041223, mae: 0.734238, mean_q: 1.314604\n",
      "  199/5000: episode: 7, duration: 0.453s, episode steps:  33, steps per second:  73, episode reward: 33.000, mean reward:  1.000 [ 1.000,  1.000], mean action: 0.606 [0.000, 1.000],  loss: 0.025380, mae: 0.799692, mean_q: 1.527881\n",
      "  213/5000: episode: 8, duration: 0.187s, episode steps:  14, steps per second:  75, episode reward: 14.000, mean reward:  1.000 [ 1.000,  1.000], mean action: 0.286 [0.000, 1.000],  loss: 0.033911, mae: 0.890043, mean_q: 1.713437\n",
      "  237/5000: episode: 9, duration: 0.333s, episode steps:  24, steps per second:  72, episode reward: 24.000, mean reward:  1.000 [ 1.000,  1.000], mean action: 0.625 [0.000, 1.000],  loss: 0.043148, mae: 0.948642, mean_q: 1.793164\n",
      "  277/5000: episode: 10, duration: 0.532s, episode steps:  40, steps per second:  75, episode reward: 40.000, mean reward:  1.000 [ 1.000,  1.000], mean action: 0.450 [0.000, 1.000],  loss: 0.044843, mae: 1.054051, mean_q: 2.007133\n",
      "  288/5000: episode: 11, duration: 0.160s, episode steps:  11, steps per second:  69, episode reward: 11.000, mean reward:  1.000 [ 1.000,  1.000], mean action: 0.818 [0.000, 1.000],  loss: 0.028851, mae: 1.126897, mean_q: 2.185999\n",
      "  326/5000: episode: 12, duration: 0.520s, episode steps:  38, steps per second:  73, episode reward: 38.000, mean reward:  1.000 [ 1.000,  1.000], mean action: 0.500 [0.000, 1.000],  loss: 0.043635, mae: 1.236616, mean_q: 2.409131\n",
      "  347/5000: episode: 13, duration: 0.321s, episode steps:  21, steps per second:  65, episode reward: 21.000, mean reward:  1.000 [ 1.000,  1.000], mean action: 0.429 [0.000, 1.000],  loss: 0.043174, mae: 1.355601, mean_q: 2.647554\n",
      "  379/5000: episode: 14, duration: 0.479s, episode steps:  32, steps per second:  67, episode reward: 32.000, mean reward:  1.000 [ 1.000,  1.000], mean action: 0.594 [0.000, 1.000],  loss: 0.085218, mae: 1.475768, mean_q: 2.825878\n",
      "  401/5000: episode: 15, duration: 0.294s, episode steps:  22, steps per second:  75, episode reward: 22.000, mean reward:  1.000 [ 1.000,  1.000], mean action: 0.409 [0.000, 1.000],  loss: 0.091718, mae: 1.578436, mean_q: 3.039098\n",
      "  421/5000: episode: 16, duration: 0.278s, episode steps:  20, steps per second:  72, episode reward: 20.000, mean reward:  1.000 [ 1.000,  1.000], mean action: 0.650 [0.000, 1.000],  loss: 0.157857, mae: 1.679211, mean_q: 3.164972\n",
      "  440/5000: episode: 17, duration: 0.253s, episode steps:  19, steps per second:  75, episode reward: 19.000, mean reward:  1.000 [ 1.000,  1.000], mean action: 0.421 [0.000, 1.000],  loss: 0.142769, mae: 1.753177, mean_q: 3.327048\n",
      "  470/5000: episode: 18, duration: 0.399s, episode steps:  30, steps per second:  75, episode reward: 30.000, mean reward:  1.000 [ 1.000,  1.000], mean action: 0.633 [0.000, 1.000],  loss: 0.108798, mae: 1.830704, mean_q: 3.536570\n",
      "  487/5000: episode: 19, duration: 0.227s, episode steps:  17, steps per second:  75, episode reward: 17.000, mean reward:  1.000 [ 1.000,  1.000], mean action: 0.471 [0.000, 1.000],  loss: 0.137116, mae: 1.934553, mean_q: 3.712060\n",
      "  518/5000: episode: 20, duration: 0.412s, episode steps:  31, steps per second:  75, episode reward: 31.000, mean reward:  1.000 [ 1.000,  1.000], mean action: 0.613 [0.000, 1.000],  loss: 0.114367, mae: 2.041406, mean_q: 3.960953\n",
      "  534/5000: episode: 21, duration: 0.214s, episode steps:  16, steps per second:  75, episode reward: 16.000, mean reward:  1.000 [ 1.000,  1.000], mean action: 0.500 [0.000, 1.000],  loss: 0.156381, mae: 2.143160, mean_q: 4.134138\n",
      "  566/5000: episode: 22, duration: 0.435s, episode steps:  32, steps per second:  74, episode reward: 32.000, mean reward:  1.000 [ 1.000,  1.000], mean action: 0.531 [0.000, 1.000],  loss: 0.185523, mae: 2.238013, mean_q: 4.291684\n",
      "  576/5000: episode: 23, duration: 0.151s, episode steps:  10, steps per second:  66, episode reward: 10.000, mean reward:  1.000 [ 1.000,  1.000], mean action: 0.200 [0.000, 1.000],  loss: 0.215050, mae: 2.344241, mean_q: 4.481532\n",
      "  593/5000: episode: 24, duration: 0.239s, episode steps:  17, steps per second:  71, episode reward: 17.000, mean reward:  1.000 [ 1.000,  1.000], mean action: 0.647 [0.000, 1.000],  loss: 0.200233, mae: 2.391761, mean_q: 4.575541\n",
      "  611/5000: episode: 25, duration: 0.240s, episode steps:  18, steps per second:  75, episode reward: 18.000, mean reward:  1.000 [ 1.000,  1.000], mean action: 0.556 [0.000, 1.000],  loss: 0.206268, mae: 2.447724, mean_q: 4.694374\n",
      "  629/5000: episode: 26, duration: 0.240s, episode steps:  18, steps per second:  75, episode reward: 18.000, mean reward:  1.000 [ 1.000,  1.000], mean action: 0.556 [0.000, 1.000],  loss: 0.276978, mae: 2.536882, mean_q: 4.849896\n",
      "  669/5000: episode: 27, duration: 0.560s, episode steps:  40, steps per second:  71, episode reward: 40.000, mean reward:  1.000 [ 1.000,  1.000], mean action: 0.475 [0.000, 1.000],  loss: 0.209621, mae: 2.635267, mean_q: 5.122012\n",
      "  691/5000: episode: 28, duration: 0.306s, episode steps:  22, steps per second:  72, episode reward: 22.000, mean reward:  1.000 [ 1.000,  1.000], mean action: 0.455 [0.000, 1.000],  loss: 0.342877, mae: 2.766425, mean_q: 5.227150\n",
      "  710/5000: episode: 29, duration: 0.253s, episode steps:  19, steps per second:  75, episode reward: 19.000, mean reward:  1.000 [ 1.000,  1.000], mean action: 0.421 [0.000, 1.000],  loss: 0.305111, mae: 2.867383, mean_q: 5.488655\n",
      "  722/5000: episode: 30, duration: 0.159s, episode steps:  12, steps per second:  75, episode reward: 12.000, mean reward:  1.000 [ 1.000,  1.000], mean action: 0.333 [0.000, 1.000],  loss: 0.259983, mae: 2.892234, mean_q: 5.589312\n",
      "  733/5000: episode: 31, duration: 0.145s, episode steps:  11, steps per second:  76, episode reward: 11.000, mean reward:  1.000 [ 1.000,  1.000], mean action: 0.727 [0.000, 1.000],  loss: 0.299173, mae: 2.962075, mean_q: 5.736443\n",
      "  758/5000: episode: 32, duration: 0.334s, episode steps:  25, steps per second:  75, episode reward: 25.000, mean reward:  1.000 [ 1.000,  1.000], mean action: 0.440 [0.000, 1.000],  loss: 0.367722, mae: 3.041530, mean_q: 5.779460\n",
      "  771/5000: episode: 33, duration: 0.186s, episode steps:  13, steps per second:  70, episode reward: 13.000, mean reward:  1.000 [ 1.000,  1.000], mean action: 0.385 [0.000, 1.000],  loss: 0.259304, mae: 3.145767, mean_q: 6.139806\n",
      "  828/5000: episode: 34, duration: 0.773s, episode steps:  57, steps per second:  74, episode reward: 57.000, mean reward:  1.000 [ 1.000,  1.000], mean action: 0.491 [0.000, 1.000],  loss: 0.351206, mae: 3.249938, mean_q: 6.266279\n",
      "  839/5000: episode: 35, duration: 0.161s, episode steps:  11, steps per second:  68, episode reward: 11.000, mean reward:  1.000 [ 1.000,  1.000], mean action: 0.727 [0.000, 1.000],  loss: 0.311687, mae: 3.393461, mean_q: 6.467829\n",
      "  855/5000: episode: 36, duration: 0.214s, episode steps:  16, steps per second:  75, episode reward: 16.000, mean reward:  1.000 [ 1.000,  1.000], mean action: 0.438 [0.000, 1.000],  loss: 0.440705, mae: 3.466962, mean_q: 6.580462\n",
      "  911/5000: episode: 37, duration: 0.758s, episode steps:  56, steps per second:  74, episode reward: 56.000, mean reward:  1.000 [ 1.000,  1.000], mean action: 0.500 [0.000, 1.000],  loss: 0.351897, mae: 3.575030, mean_q: 6.861835\n"
     ]
    },
    {
     "name": "stdout",
     "output_type": "stream",
     "text": [
      "  935/5000: episode: 38, duration: 0.346s, episode steps:  24, steps per second:  69, episode reward: 24.000, mean reward:  1.000 [ 1.000,  1.000], mean action: 0.500 [0.000, 1.000],  loss: 0.375709, mae: 3.716642, mean_q: 7.226643\n",
      "  962/5000: episode: 39, duration: 0.374s, episode steps:  27, steps per second:  72, episode reward: 27.000, mean reward:  1.000 [ 1.000,  1.000], mean action: 0.444 [0.000, 1.000],  loss: 0.390799, mae: 3.819375, mean_q: 7.491276\n",
      "  976/5000: episode: 40, duration: 0.185s, episode steps:  14, steps per second:  76, episode reward: 14.000, mean reward:  1.000 [ 1.000,  1.000], mean action: 0.429 [0.000, 1.000],  loss: 0.295740, mae: 3.934417, mean_q: 7.703238\n",
      "  986/5000: episode: 41, duration: 0.133s, episode steps:  10, steps per second:  75, episode reward: 10.000, mean reward:  1.000 [ 1.000,  1.000], mean action: 0.300 [0.000, 1.000],  loss: 0.390930, mae: 3.875990, mean_q: 7.558123\n",
      " 1006/5000: episode: 42, duration: 0.266s, episode steps:  20, steps per second:  75, episode reward: 20.000, mean reward:  1.000 [ 1.000,  1.000], mean action: 0.600 [0.000, 1.000],  loss: 0.397913, mae: 4.012069, mean_q: 7.900599\n",
      " 1052/5000: episode: 43, duration: 0.694s, episode steps:  46, steps per second:  66, episode reward: 46.000, mean reward:  1.000 [ 1.000,  1.000], mean action: 0.478 [0.000, 1.000],  loss: 0.482256, mae: 4.142633, mean_q: 8.061322\n",
      " 1090/5000: episode: 44, duration: 0.506s, episode steps:  38, steps per second:  75, episode reward: 38.000, mean reward:  1.000 [ 1.000,  1.000], mean action: 0.553 [0.000, 1.000],  loss: 0.470059, mae: 4.334283, mean_q: 8.454283\n",
      " 1104/5000: episode: 45, duration: 0.186s, episode steps:  14, steps per second:  75, episode reward: 14.000, mean reward:  1.000 [ 1.000,  1.000], mean action: 0.500 [0.000, 1.000],  loss: 0.585523, mae: 4.425180, mean_q: 8.655264\n",
      " 1155/5000: episode: 46, duration: 0.680s, episode steps:  51, steps per second:  75, episode reward: 51.000, mean reward:  1.000 [ 1.000,  1.000], mean action: 0.529 [0.000, 1.000],  loss: 0.369529, mae: 4.548054, mean_q: 9.033017\n",
      " 1182/5000: episode: 47, duration: 0.361s, episode steps:  27, steps per second:  75, episode reward: 27.000, mean reward:  1.000 [ 1.000,  1.000], mean action: 0.481 [0.000, 1.000],  loss: 0.562524, mae: 4.671586, mean_q: 9.209554\n",
      " 1203/5000: episode: 48, duration: 0.280s, episode steps:  21, steps per second:  75, episode reward: 21.000, mean reward:  1.000 [ 1.000,  1.000], mean action: 0.524 [0.000, 1.000],  loss: 0.534987, mae: 4.756356, mean_q: 9.375289\n",
      " 1296/5000: episode: 49, duration: 1.252s, episode steps:  93, steps per second:  74, episode reward: 93.000, mean reward:  1.000 [ 1.000,  1.000], mean action: 0.505 [0.000, 1.000],  loss: 0.506690, mae: 5.021225, mean_q: 9.899710\n",
      " 1370/5000: episode: 50, duration: 1.026s, episode steps:  74, steps per second:  72, episode reward: 74.000, mean reward:  1.000 [ 1.000,  1.000], mean action: 0.500 [0.000, 1.000],  loss: 0.556661, mae: 5.352416, mean_q: 10.628895\n",
      " 1437/5000: episode: 51, duration: 0.920s, episode steps:  67, steps per second:  73, episode reward: 67.000, mean reward:  1.000 [ 1.000,  1.000], mean action: 0.493 [0.000, 1.000],  loss: 0.497392, mae: 5.637630, mean_q: 11.238952\n",
      " 1519/5000: episode: 52, duration: 1.159s, episode steps:  82, steps per second:  71, episode reward: 82.000, mean reward:  1.000 [ 1.000,  1.000], mean action: 0.476 [0.000, 1.000],  loss: 0.582532, mae: 5.915525, mean_q: 11.846207\n",
      " 1634/5000: episode: 53, duration: 1.587s, episode steps: 115, steps per second:  72, episode reward: 115.000, mean reward:  1.000 [ 1.000,  1.000], mean action: 0.539 [0.000, 1.000],  loss: 0.442233, mae: 6.341838, mean_q: 12.794689\n",
      " 1830/5000: episode: 54, duration: 2.641s, episode steps: 196, steps per second:  74, episode reward: 196.000, mean reward:  1.000 [ 1.000,  1.000], mean action: 0.505 [0.000, 1.000],  loss: 0.529128, mae: 6.998919, mean_q: 14.188038\n",
      " 2030/5000: episode: 55, duration: 2.719s, episode steps: 200, steps per second:  74, episode reward: 200.000, mean reward:  1.000 [ 1.000,  1.000], mean action: 0.500 [0.000, 1.000],  loss: 0.614082, mae: 7.903264, mean_q: 16.100309\n",
      " 2230/5000: episode: 56, duration: 2.707s, episode steps: 200, steps per second:  74, episode reward: 200.000, mean reward:  1.000 [ 1.000,  1.000], mean action: 0.510 [0.000, 1.000],  loss: 0.640711, mae: 8.828792, mean_q: 18.050482\n",
      " 2421/5000: episode: 57, duration: 2.575s, episode steps: 191, steps per second:  74, episode reward: 191.000, mean reward:  1.000 [ 1.000,  1.000], mean action: 0.529 [0.000, 1.000],  loss: 0.865222, mae: 9.792123, mean_q: 20.003319\n",
      " 2598/5000: episode: 58, duration: 2.373s, episode steps: 177, steps per second:  75, episode reward: 177.000, mean reward:  1.000 [ 1.000,  1.000], mean action: 0.520 [0.000, 1.000],  loss: 1.049228, mae: 10.642588, mean_q: 21.747030\n",
      " 2776/5000: episode: 59, duration: 2.413s, episode steps: 178, steps per second:  74, episode reward: 178.000, mean reward:  1.000 [ 1.000,  1.000], mean action: 0.528 [0.000, 1.000],  loss: 0.977903, mae: 11.439196, mean_q: 23.431032\n",
      " 2957/5000: episode: 60, duration: 2.427s, episode steps: 181, steps per second:  75, episode reward: 181.000, mean reward:  1.000 [ 1.000,  1.000], mean action: 0.525 [0.000, 1.000],  loss: 1.072321, mae: 12.379886, mean_q: 25.235741\n",
      " 3099/5000: episode: 61, duration: 1.906s, episode steps: 142, steps per second:  74, episode reward: 142.000, mean reward:  1.000 [ 1.000,  1.000], mean action: 0.507 [0.000, 1.000],  loss: 1.673839, mae: 13.067293, mean_q: 26.571079\n",
      " 3299/5000: episode: 62, duration: 2.708s, episode steps: 200, steps per second:  74, episode reward: 200.000, mean reward:  1.000 [ 1.000,  1.000], mean action: 0.515 [0.000, 1.000],  loss: 1.597918, mae: 13.775015, mean_q: 28.072647\n",
      " 3499/5000: episode: 63, duration: 2.667s, episode steps: 200, steps per second:  75, episode reward: 200.000, mean reward:  1.000 [ 1.000,  1.000], mean action: 0.525 [0.000, 1.000],  loss: 1.639816, mae: 14.638459, mean_q: 29.851002\n",
      " 3639/5000: episode: 64, duration: 1.908s, episode steps: 140, steps per second:  73, episode reward: 140.000, mean reward:  1.000 [ 1.000,  1.000], mean action: 0.500 [0.000, 1.000],  loss: 1.955707, mae: 15.470720, mean_q: 31.409719\n",
      " 3834/5000: episode: 65, duration: 2.679s, episode steps: 195, steps per second:  73, episode reward: 195.000, mean reward:  1.000 [ 1.000,  1.000], mean action: 0.528 [0.000, 1.000],  loss: 1.945248, mae: 16.074850, mean_q: 32.683868\n",
      " 4012/5000: episode: 66, duration: 2.400s, episode steps: 178, steps per second:  74, episode reward: 178.000, mean reward:  1.000 [ 1.000,  1.000], mean action: 0.528 [0.000, 1.000],  loss: 2.083483, mae: 16.845720, mean_q: 34.171848\n",
      " 4212/5000: episode: 67, duration: 2.681s, episode steps: 200, steps per second:  75, episode reward: 200.000, mean reward:  1.000 [ 1.000,  1.000], mean action: 0.525 [0.000, 1.000],  loss: 2.203561, mae: 17.596809, mean_q: 35.745892\n",
      " 4404/5000: episode: 68, duration: 2.586s, episode steps: 192, steps per second:  74, episode reward: 192.000, mean reward:  1.000 [ 1.000,  1.000], mean action: 0.531 [0.000, 1.000],  loss: 2.186400, mae: 18.389116, mean_q: 37.345074\n",
      " 4604/5000: episode: 69, duration: 2.667s, episode steps: 200, steps per second:  75, episode reward: 200.000, mean reward:  1.000 [ 1.000,  1.000], mean action: 0.525 [0.000, 1.000],  loss: 2.675167, mae: 19.036907, mean_q: 38.592823\n",
      " 4776/5000: episode: 70, duration: 2.321s, episode steps: 172, steps per second:  74, episode reward: 172.000, mean reward:  1.000 [ 1.000,  1.000], mean action: 0.535 [0.000, 1.000],  loss: 2.833553, mae: 19.612829, mean_q: 39.707623\n",
      " 4944/5000: episode: 71, duration: 2.279s, episode steps: 168, steps per second:  74, episode reward: 168.000, mean reward:  1.000 [ 1.000,  1.000], mean action: 0.524 [0.000, 1.000],  loss: 2.281330, mae: 20.169729, mean_q: 40.919041\n",
      "done, took 68.490 seconds\n",
      "Testing for 5 episodes ...\n",
      "Episode 1: reward: 200.000, steps: 200\n",
      "Episode 2: reward: 162.000, steps: 162\n",
      "Episode 3: reward: 179.000, steps: 179\n",
      "Episode 4: reward: 168.000, steps: 168\n",
      "Episode 5: reward: 200.000, steps: 200\n"
     ]
    },
    {
     "data": {
      "text/plain": [
       "<keras.callbacks.History at 0x2433bf629d0>"
      ]
     },
     "execution_count": 1,
     "metadata": {},
     "output_type": "execute_result"
    }
   ],
   "source": [
    "# pip install keras-rl2\n",
    "# pip install gym==0.19.0\n",
    "# pip install pyglet==1.5.11\n",
    "\n",
    "\n",
    "import numpy as np\n",
    "import gym\n",
    "\n",
    "from keras.models import Sequential\n",
    "from keras.layers import Dense, Activation, Flatten\n",
    "from keras.optimizers import Adam\n",
    "\n",
    "from rl.agents.dqn import DQNAgent\n",
    "from rl.policy import BoltzmannQPolicy\n",
    "from rl.memory import SequentialMemory\n",
    "\n",
    "\n",
    "ENV_NAME = 'CartPole-v0'\n",
    "\n",
    "\n",
    "# Get the environment and extract the number of actions.\n",
    "env = gym.make(ENV_NAME)\n",
    "np.random.seed(123)\n",
    "env.seed(123)\n",
    "nb_actions = env.action_space.n\n",
    "\n",
    "# Next, we build a very simple model.\n",
    "model = Sequential()\n",
    "model.add(Flatten(input_shape=(1,) + env.observation_space.shape))\n",
    "model.add(Dense(16))\n",
    "model.add(Activation('relu'))\n",
    "model.add(Dense(16))\n",
    "model.add(Activation('relu'))\n",
    "model.add(Dense(16))\n",
    "model.add(Activation('relu'))\n",
    "model.add(Dense(nb_actions))\n",
    "model.add(Activation('linear'))\n",
    "# print(model.summary())\n",
    "\n",
    "# Finally, we configure and compile our agent. You can use every built-in Keras optimizer and\n",
    "# even the metrics!\n",
    "memory = SequentialMemory(limit=50000, window_length=1)\n",
    "policy = BoltzmannQPolicy()\n",
    "dqn = DQNAgent(model=model, nb_actions=nb_actions, memory=memory, nb_steps_warmup=10, target_model_update=1e-2, policy=policy)\n",
    "dqn.compile(Adam(lr=1e-3), metrics=['mae'])\n",
    "\n",
    "# Okay, now it's time to learn something! We visualize the training here for show, but this\n",
    "# slows down training quite a lot. You can always safely abort the training prematurely using\n",
    "# Ctrl + C.\n",
    "dqn.fit(env, nb_steps=5000, visualize=True, verbose=2)\n",
    "\n",
    "# After training is done, we save the final weights.\n",
    "# dqn.save_weights('dqn_{}_weights.h5f'.format(ENV_NAME), overwrite=True)\n",
    "\n",
    "# Finally, evaluate our algorithm for 5 episodes.\n",
    "dqn.test(env, nb_episodes=5, visualize=True)\n"
   ]
  },
  {
   "cell_type": "code",
   "execution_count": null,
   "id": "3c1e7ae3",
   "metadata": {},
   "outputs": [],
   "source": []
  }
 ],
 "metadata": {
  "kernelspec": {
   "display_name": "Python 3 (ipykernel)",
   "language": "python",
   "name": "python3"
  },
  "language_info": {
   "codemirror_mode": {
    "name": "ipython",
    "version": 3
   },
   "file_extension": ".py",
   "mimetype": "text/x-python",
   "name": "python",
   "nbconvert_exporter": "python",
   "pygments_lexer": "ipython3",
   "version": "3.11.3"
  }
 },
 "nbformat": 4,
 "nbformat_minor": 5
}
