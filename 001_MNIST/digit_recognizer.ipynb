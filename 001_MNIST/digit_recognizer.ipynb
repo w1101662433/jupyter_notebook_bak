{
 "cells": [
  {
   "cell_type": "code",
   "execution_count": null,
   "id": "287d60eb",
   "metadata": {},
   "outputs": [],
   "source": [
    "import keras\n",
    "import numpy as np\n",
    "import pandas as pd\n",
    "\n",
    "from sklearn.model_selection import train_test_split\n",
    "from keras.utils import to_categorical\n",
    "from keras.models import Sequential\n",
    "from keras.layers.convolutional import Conv2D, MaxPooling2D\n",
    "from keras.layers import BatchNormalization, Dense, Dropout, Flatten\n",
    "from keras.preprocessing.image import ImageDataGenerator\n",
    "from keras.callbacks import LearningRateScheduler"
   ]
  },
  {
   "cell_type": "code",
   "execution_count": 46,
   "id": "d81d07b3",
   "metadata": {
    "scrolled": true
   },
   "outputs": [],
   "source": [
    "train = pd.read_csv(r'input/train.csv')\n",
    "test = pd.read_csv(r'input/test.csv')"
   ]
  },
  {
   "cell_type": "code",
   "execution_count": 48,
   "id": "17164875",
   "metadata": {},
   "outputs": [
    {
     "data": {
      "text/html": [
       "<div>\n",
       "<style scoped>\n",
       "    .dataframe tbody tr th:only-of-type {\n",
       "        vertical-align: middle;\n",
       "    }\n",
       "\n",
       "    .dataframe tbody tr th {\n",
       "        vertical-align: top;\n",
       "    }\n",
       "\n",
       "    .dataframe thead th {\n",
       "        text-align: right;\n",
       "    }\n",
       "</style>\n",
       "<table border=\"1\" class=\"dataframe\">\n",
       "  <thead>\n",
       "    <tr style=\"text-align: right;\">\n",
       "      <th></th>\n",
       "      <th>label</th>\n",
       "      <th>pixel0</th>\n",
       "      <th>pixel1</th>\n",
       "      <th>pixel2</th>\n",
       "      <th>pixel3</th>\n",
       "      <th>pixel4</th>\n",
       "      <th>pixel5</th>\n",
       "      <th>pixel6</th>\n",
       "      <th>pixel7</th>\n",
       "      <th>pixel8</th>\n",
       "      <th>...</th>\n",
       "      <th>pixel774</th>\n",
       "      <th>pixel775</th>\n",
       "      <th>pixel776</th>\n",
       "      <th>pixel777</th>\n",
       "      <th>pixel778</th>\n",
       "      <th>pixel779</th>\n",
       "      <th>pixel780</th>\n",
       "      <th>pixel781</th>\n",
       "      <th>pixel782</th>\n",
       "      <th>pixel783</th>\n",
       "    </tr>\n",
       "  </thead>\n",
       "  <tbody>\n",
       "    <tr>\n",
       "      <th>0</th>\n",
       "      <td>1</td>\n",
       "      <td>0</td>\n",
       "      <td>0</td>\n",
       "      <td>0</td>\n",
       "      <td>0</td>\n",
       "      <td>0</td>\n",
       "      <td>0</td>\n",
       "      <td>0</td>\n",
       "      <td>0</td>\n",
       "      <td>0</td>\n",
       "      <td>...</td>\n",
       "      <td>0</td>\n",
       "      <td>0</td>\n",
       "      <td>0</td>\n",
       "      <td>0</td>\n",
       "      <td>0</td>\n",
       "      <td>0</td>\n",
       "      <td>0</td>\n",
       "      <td>0</td>\n",
       "      <td>0</td>\n",
       "      <td>0</td>\n",
       "    </tr>\n",
       "    <tr>\n",
       "      <th>1</th>\n",
       "      <td>0</td>\n",
       "      <td>0</td>\n",
       "      <td>0</td>\n",
       "      <td>0</td>\n",
       "      <td>0</td>\n",
       "      <td>0</td>\n",
       "      <td>0</td>\n",
       "      <td>0</td>\n",
       "      <td>0</td>\n",
       "      <td>0</td>\n",
       "      <td>...</td>\n",
       "      <td>0</td>\n",
       "      <td>0</td>\n",
       "      <td>0</td>\n",
       "      <td>0</td>\n",
       "      <td>0</td>\n",
       "      <td>0</td>\n",
       "      <td>0</td>\n",
       "      <td>0</td>\n",
       "      <td>0</td>\n",
       "      <td>0</td>\n",
       "    </tr>\n",
       "    <tr>\n",
       "      <th>2</th>\n",
       "      <td>1</td>\n",
       "      <td>0</td>\n",
       "      <td>0</td>\n",
       "      <td>0</td>\n",
       "      <td>0</td>\n",
       "      <td>0</td>\n",
       "      <td>0</td>\n",
       "      <td>0</td>\n",
       "      <td>0</td>\n",
       "      <td>0</td>\n",
       "      <td>...</td>\n",
       "      <td>0</td>\n",
       "      <td>0</td>\n",
       "      <td>0</td>\n",
       "      <td>0</td>\n",
       "      <td>0</td>\n",
       "      <td>0</td>\n",
       "      <td>0</td>\n",
       "      <td>0</td>\n",
       "      <td>0</td>\n",
       "      <td>0</td>\n",
       "    </tr>\n",
       "    <tr>\n",
       "      <th>3</th>\n",
       "      <td>4</td>\n",
       "      <td>0</td>\n",
       "      <td>0</td>\n",
       "      <td>0</td>\n",
       "      <td>0</td>\n",
       "      <td>0</td>\n",
       "      <td>0</td>\n",
       "      <td>0</td>\n",
       "      <td>0</td>\n",
       "      <td>0</td>\n",
       "      <td>...</td>\n",
       "      <td>0</td>\n",
       "      <td>0</td>\n",
       "      <td>0</td>\n",
       "      <td>0</td>\n",
       "      <td>0</td>\n",
       "      <td>0</td>\n",
       "      <td>0</td>\n",
       "      <td>0</td>\n",
       "      <td>0</td>\n",
       "      <td>0</td>\n",
       "    </tr>\n",
       "    <tr>\n",
       "      <th>4</th>\n",
       "      <td>0</td>\n",
       "      <td>0</td>\n",
       "      <td>0</td>\n",
       "      <td>0</td>\n",
       "      <td>0</td>\n",
       "      <td>0</td>\n",
       "      <td>0</td>\n",
       "      <td>0</td>\n",
       "      <td>0</td>\n",
       "      <td>0</td>\n",
       "      <td>...</td>\n",
       "      <td>0</td>\n",
       "      <td>0</td>\n",
       "      <td>0</td>\n",
       "      <td>0</td>\n",
       "      <td>0</td>\n",
       "      <td>0</td>\n",
       "      <td>0</td>\n",
       "      <td>0</td>\n",
       "      <td>0</td>\n",
       "      <td>0</td>\n",
       "    </tr>\n",
       "  </tbody>\n",
       "</table>\n",
       "<p>5 rows × 785 columns</p>\n",
       "</div>"
      ],
      "text/plain": [
       "   label  pixel0  pixel1  pixel2  pixel3  pixel4  pixel5  pixel6  pixel7  \\\n",
       "0      1       0       0       0       0       0       0       0       0   \n",
       "1      0       0       0       0       0       0       0       0       0   \n",
       "2      1       0       0       0       0       0       0       0       0   \n",
       "3      4       0       0       0       0       0       0       0       0   \n",
       "4      0       0       0       0       0       0       0       0       0   \n",
       "\n",
       "   pixel8  ...  pixel774  pixel775  pixel776  pixel777  pixel778  pixel779  \\\n",
       "0       0  ...         0         0         0         0         0         0   \n",
       "1       0  ...         0         0         0         0         0         0   \n",
       "2       0  ...         0         0         0         0         0         0   \n",
       "3       0  ...         0         0         0         0         0         0   \n",
       "4       0  ...         0         0         0         0         0         0   \n",
       "\n",
       "   pixel780  pixel781  pixel782  pixel783  \n",
       "0         0         0         0         0  \n",
       "1         0         0         0         0  \n",
       "2         0         0         0         0  \n",
       "3         0         0         0         0  \n",
       "4         0         0         0         0  \n",
       "\n",
       "[5 rows x 785 columns]"
      ]
     },
     "execution_count": 48,
     "metadata": {},
     "output_type": "execute_result"
    }
   ],
   "source": [
    "train.head()"
   ]
  },
  {
   "cell_type": "code",
   "execution_count": 49,
   "id": "8ca2790c",
   "metadata": {},
   "outputs": [],
   "source": [
    "y = train[\"label\"]\n",
    "train.drop([\"label\"], inplace=True, axis=1) #删去label列\n",
    "X = train"
   ]
  },
  {
   "cell_type": "code",
   "execution_count": 50,
   "id": "56c1a1ce",
   "metadata": {},
   "outputs": [],
   "source": [
    "X_train, X_val, y_train, y_val = train_test_split(X, y, train_size=0.9, random_state=42)"
   ]
  },
  {
   "cell_type": "code",
   "execution_count": 51,
   "id": "45f9ab59",
   "metadata": {},
   "outputs": [],
   "source": [
    "X_train = X_train.values.reshape(-1, 28, 28, 1).astype(\"float32\") / 255\n",
    "X_val = X_val.values.reshape(-1, 28, 28, 1).astype(\"float32\") / 255\n",
    "X_test= test.values.reshape(-1, 28, 28, 1).astype(\"float32\") / 255"
   ]
  },
  {
   "cell_type": "code",
   "execution_count": 52,
   "id": "fe6dae69",
   "metadata": {},
   "outputs": [
    {
     "data": {
      "text/plain": [
       "22460    8\n",
       "20828    5\n",
       "32032    6\n",
       "Name: label, dtype: int64"
      ]
     },
     "execution_count": 52,
     "metadata": {},
     "output_type": "execute_result"
    }
   ],
   "source": [
    "y_train[0:3]"
   ]
  },
  {
   "cell_type": "code",
   "execution_count": 53,
   "id": "a526d384",
   "metadata": {},
   "outputs": [],
   "source": [
    "y_train = to_categorical(y_train, num_classes=10)\n",
    "y_val = to_categorical(y_val, num_classes=10)"
   ]
  },
  {
   "cell_type": "code",
   "execution_count": 54,
   "id": "5bc96591",
   "metadata": {},
   "outputs": [
    {
     "data": {
      "text/plain": [
       "array([[0., 0., 0., 0., 0., 0., 0., 0., 1., 0.],\n",
       "       [0., 0., 0., 0., 0., 1., 0., 0., 0., 0.],\n",
       "       [0., 0., 0., 0., 0., 0., 1., 0., 0., 0.]], dtype=float32)"
      ]
     },
     "execution_count": 54,
     "metadata": {},
     "output_type": "execute_result"
    }
   ],
   "source": [
    "y_train[0:3]"
   ]
  },
  {
   "cell_type": "code",
   "execution_count": 68,
   "id": "fadd311b",
   "metadata": {},
   "outputs": [],
   "source": [
    "model = Sequential()\n",
    "model.add(Conv2D(24,kernel_size=5,padding='same',activation='relu',\n",
    "        input_shape=(28,28,1)))\n",
    "model.add(MaxPooling2D())\n",
    "\n",
    "# model.add(Conv2D(48,kernel_size=5,padding='same',activation='relu'))\n",
    "# model.add(MaxPooling2D())\n",
    "\n",
    "model.add(Conv2D(64,kernel_size=5,padding='same',activation='relu'))\n",
    "model.add(MaxPooling2D(padding='same'))\n",
    "\n",
    "model.add(Flatten())\n",
    "model.add(Dense(128, activation='relu'))\n",
    "model.add(Dense(10, activation='softmax'))\n",
    "model.compile(optimizer=\"adam\", loss=\"categorical_crossentropy\", metrics=[\"accuracy\"])"
   ]
  },
  {
   "cell_type": "code",
   "execution_count": 69,
   "id": "79b4dd51",
   "metadata": {},
   "outputs": [
    {
     "data": {
      "text/plain": [
       "<keras.engine.sequential.Sequential at 0x22c5bff0908>"
      ]
     },
     "execution_count": 69,
     "metadata": {},
     "output_type": "execute_result"
    }
   ],
   "source": [
    "model"
   ]
  },
  {
   "cell_type": "code",
   "execution_count": 70,
   "id": "e0f64f59",
   "metadata": {},
   "outputs": [
    {
     "name": "stdout",
     "output_type": "stream",
     "text": [
      "Epoch 1/20\n",
      "473/473 [==============================] - 18s 36ms/step - loss: 0.2000 - accuracy: 0.9390 - val_loss: 0.0837 - val_accuracy: 0.9740\n",
      "Epoch 2/20\n",
      "473/473 [==============================] - 17s 36ms/step - loss: 0.0531 - accuracy: 0.9834 - val_loss: 0.0503 - val_accuracy: 0.9836\n",
      "Epoch 3/20\n",
      "473/473 [==============================] - 17s 36ms/step - loss: 0.0364 - accuracy: 0.9886 - val_loss: 0.0340 - val_accuracy: 0.9871\n",
      "Epoch 4/20\n",
      "473/473 [==============================] - 17s 36ms/step - loss: 0.0260 - accuracy: 0.9919 - val_loss: 0.0442 - val_accuracy: 0.9857\n",
      "Epoch 5/20\n",
      "473/473 [==============================] - 18s 37ms/step - loss: 0.0199 - accuracy: 0.9937 - val_loss: 0.0385 - val_accuracy: 0.9874\n",
      "Epoch 6/20\n",
      "473/473 [==============================] - 17s 37ms/step - loss: 0.0152 - accuracy: 0.9952 - val_loss: 0.0382 - val_accuracy: 0.9876\n",
      "Epoch 7/20\n",
      "473/473 [==============================] - 18s 38ms/step - loss: 0.0135 - accuracy: 0.9956 - val_loss: 0.0308 - val_accuracy: 0.9902\n",
      "Epoch 8/20\n",
      "473/473 [==============================] - 19s 40ms/step - loss: 0.0119 - accuracy: 0.9961 - val_loss: 0.0341 - val_accuracy: 0.9888\n",
      "Epoch 9/20\n",
      "473/473 [==============================] - 18s 37ms/step - loss: 0.0081 - accuracy: 0.9976 - val_loss: 0.0384 - val_accuracy: 0.9895\n",
      "Epoch 10/20\n",
      "473/473 [==============================] - 18s 37ms/step - loss: 0.0077 - accuracy: 0.9976 - val_loss: 0.0327 - val_accuracy: 0.9900\n",
      "Epoch 11/20\n",
      "473/473 [==============================] - 18s 38ms/step - loss: 0.0080 - accuracy: 0.9974 - val_loss: 0.0358 - val_accuracy: 0.9900\n",
      "Epoch 12/20\n",
      "473/473 [==============================] - 17s 36ms/step - loss: 0.0046 - accuracy: 0.9986 - val_loss: 0.0309 - val_accuracy: 0.9917\n",
      "Epoch 13/20\n",
      "473/473 [==============================] - 18s 37ms/step - loss: 0.0036 - accuracy: 0.9988 - val_loss: 0.0573 - val_accuracy: 0.9883\n",
      "Epoch 14/20\n",
      "473/473 [==============================] - 18s 38ms/step - loss: 0.0063 - accuracy: 0.9978 - val_loss: 0.0455 - val_accuracy: 0.9900\n",
      "Epoch 15/20\n",
      "473/473 [==============================] - 18s 38ms/step - loss: 0.0049 - accuracy: 0.9984 - val_loss: 0.0544 - val_accuracy: 0.9881\n",
      "Epoch 16/20\n",
      "473/473 [==============================] - 18s 39ms/step - loss: 0.0046 - accuracy: 0.9984 - val_loss: 0.0643 - val_accuracy: 0.9874\n",
      "Epoch 17/20\n",
      "473/473 [==============================] - 18s 38ms/step - loss: 0.0047 - accuracy: 0.9985 - val_loss: 0.0491 - val_accuracy: 0.9879\n",
      "Epoch 18/20\n",
      "473/473 [==============================] - 18s 39ms/step - loss: 0.0049 - accuracy: 0.9985 - val_loss: 0.0455 - val_accuracy: 0.9895\n",
      "Epoch 19/20\n",
      "473/473 [==============================] - 18s 38ms/step - loss: 0.0022 - accuracy: 0.9993 - val_loss: 0.0529 - val_accuracy: 0.9881\n",
      "Epoch 20/20\n",
      "473/473 [==============================] - 18s 38ms/step - loss: 0.0041 - accuracy: 0.9988 - val_loss: 0.0443 - val_accuracy: 0.9895\n"
     ]
    }
   ],
   "source": [
    "h1 = model.fit(X_train,y_train, batch_size=80, epochs = 20, validation_data = (X_val, y_val))"
   ]
  },
  {
   "cell_type": "code",
   "execution_count": 71,
   "id": "7be28fa3",
   "metadata": {},
   "outputs": [
    {
     "name": "stdout",
     "output_type": "stream",
     "text": [
      "875/875 [==============================] - 3s 4ms/step\n"
     ]
    }
   ],
   "source": [
    "results = model.predict(X_test)"
   ]
  },
  {
   "cell_type": "code",
   "execution_count": 72,
   "id": "ad2486ce",
   "metadata": {},
   "outputs": [],
   "source": [
    "results = np.argmax(results, axis = 1)\n",
    "results = pd.Series(results,name=\"Label\")\n",
    "submission = pd.concat([pd.Series(range(1,28001),name = \"ImageId\"),results], axis = 1)\n",
    "submission.to_csv(\"MNIST-CNN.csv\",index=False)"
   ]
  },
  {
   "cell_type": "code",
   "execution_count": null,
   "id": "5c87a7c5",
   "metadata": {},
   "outputs": [],
   "source": []
  }
 ],
 "metadata": {
  "kernelspec": {
   "display_name": "Python 3 (ipykernel)",
   "language": "python",
   "name": "python3"
  },
  "language_info": {
   "codemirror_mode": {
    "name": "ipython",
    "version": 3
   },
   "file_extension": ".py",
   "mimetype": "text/x-python",
   "name": "python",
   "nbconvert_exporter": "python",
   "pygments_lexer": "ipython3",
   "version": "3.11.3"
  }
 },
 "nbformat": 4,
 "nbformat_minor": 5
}
